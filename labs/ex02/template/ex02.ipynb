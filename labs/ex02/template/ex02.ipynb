{
 "cells": [
  {
   "cell_type": "code",
   "execution_count": 1,
   "metadata": {
    "execution": {
     "iopub.execute_input": "2025-09-26T15:02:45.229783Z",
     "iopub.status.busy": "2025-09-26T15:02:45.229624Z",
     "iopub.status.idle": "2025-09-26T15:02:45.741931Z",
     "shell.execute_reply": "2025-09-26T15:02:45.741411Z",
     "shell.execute_reply.started": "2025-09-26T15:02:45.229765Z"
    }
   },
   "outputs": [],
   "source": [
    "# Useful starting lines\n",
    "%matplotlib inline\n",
    "import numpy as np\n",
    "import matplotlib.pyplot as plt\n",
    "\n",
    "%load_ext autoreload\n",
    "%autoreload 2"
   ]
  },
  {
   "cell_type": "markdown",
   "metadata": {},
   "source": [
    "# Load the data"
   ]
  },
  {
   "cell_type": "code",
   "execution_count": 2,
   "metadata": {
    "execution": {
     "iopub.execute_input": "2025-09-26T15:02:45.742693Z",
     "iopub.status.busy": "2025-09-26T15:02:45.742482Z",
     "iopub.status.idle": "2025-09-26T15:02:45.789259Z",
     "shell.execute_reply": "2025-09-26T15:02:45.788558Z",
     "shell.execute_reply.started": "2025-09-26T15:02:45.742676Z"
    }
   },
   "outputs": [],
   "source": [
    "import datetime\n",
    "from helpers import *\n",
    "\n",
    "height, weight, gender = load_data(sub_sample=False, add_outlier=False)\n",
    "x, mean_x, std_x = standardize(height)\n",
    "y, tx = build_model_data(x, weight)"
   ]
  },
  {
   "cell_type": "code",
   "execution_count": 3,
   "metadata": {
    "execution": {
     "iopub.execute_input": "2025-09-26T15:02:45.790045Z",
     "iopub.status.busy": "2025-09-26T15:02:45.789868Z",
     "iopub.status.idle": "2025-09-26T15:02:45.802299Z",
     "shell.execute_reply": "2025-09-26T15:02:45.801810Z",
     "shell.execute_reply.started": "2025-09-26T15:02:45.790030Z"
    }
   },
   "outputs": [
    {
     "data": {
      "text/plain": [
       "((10000,), (10000, 2))"
      ]
     },
     "execution_count": 3,
     "metadata": {},
     "output_type": "execute_result"
    }
   ],
   "source": [
    "y.shape, tx.shape"
   ]
  },
  {
   "cell_type": "markdown",
   "metadata": {},
   "source": [
    "### NB: throughout this laboratory the data has the following format: \n",
    "  * there are **N = 10000** data entries\n",
    "  * **y** represents the column vector containing weight information -- that which we wish to predict/the output (see also the first page of $\\texttt{exercise02.pdf}$). Its **shape** is **(N,)**.\n",
    "  * **tx** represents the matrix $\\tilde{X}$ formed by laterally concatenating a column vector of 1s to the column vector of height information -- the input data (see also the first page of $\\texttt{exercise02.pdf}$). Its **shape** is **(N,2)**."
   ]
  },
  {
   "cell_type": "markdown",
   "metadata": {},
   "source": [
    "# 1. Computing the Cost Function\n",
    "Fill in the `compute_loss` function below:"
   ]
  },
  {
   "cell_type": "code",
   "execution_count": 4,
   "metadata": {
    "execution": {
     "iopub.execute_input": "2025-09-26T15:02:45.802997Z",
     "iopub.status.busy": "2025-09-26T15:02:45.802833Z",
     "iopub.status.idle": "2025-09-26T15:02:45.824920Z",
     "shell.execute_reply": "2025-09-26T15:02:45.824283Z",
     "shell.execute_reply.started": "2025-09-26T15:02:45.802982Z"
    }
   },
   "outputs": [],
   "source": [
    "def compute_loss(y, tx, w):\n",
    "    \"\"\"Calculate the loss using either MSE or MAE.\n",
    "\n",
    "    Args:\n",
    "        y: numpy array of shape=(N, )\n",
    "        tx: numpy array of shape=(N,2)\n",
    "        w: numpy array of shape=(2,). The vector of model parameters.\n",
    "\n",
    "    Returns:\n",
    "        the value of the loss (a scalar), corresponding to the input parameters w.\n",
    "    \"\"\"\n",
    "    # ***************************************************\n",
    "    # INSERT YOUR CODE HERE\n",
    "    # TODO: compute loss by MSE\n",
    "    \n",
    "    y.ravel() # to ensure shape of (N,)\n",
    "    pred = tx @ w \n",
    "    e = y - pred\n",
    "\n",
    "    return 0.5*np.mean(e**2)\n",
    "    \n",
    "    # ***************************************************\n",
    "    #raise NotImplementedError"
   ]
  },
  {
   "cell_type": "code",
   "execution_count": 5,
   "metadata": {
    "execution": {
     "iopub.execute_input": "2025-09-26T15:02:45.826134Z",
     "iopub.status.busy": "2025-09-26T15:02:45.825954Z",
     "iopub.status.idle": "2025-09-26T15:02:45.849808Z",
     "shell.execute_reply": "2025-09-26T15:02:45.849330Z",
     "shell.execute_reply.started": "2025-09-26T15:02:45.826119Z"
    }
   },
   "outputs": [
    {
     "data": {
      "text/plain": [
       "np.float64(2694.4833658870843)"
      ]
     },
     "execution_count": 5,
     "metadata": {},
     "output_type": "execute_result"
    }
   ],
   "source": [
    "w_test = [1,2] \n",
    "compute_loss(y, tx, w_test)"
   ]
  },
  {
   "cell_type": "markdown",
   "metadata": {},
   "source": [
    "# 2. Grid Search"
   ]
  },
  {
   "cell_type": "markdown",
   "metadata": {},
   "source": [
    "Fill in the function `grid_search()` below:"
   ]
  },
  {
   "cell_type": "code",
   "execution_count": 6,
   "metadata": {
    "execution": {
     "iopub.execute_input": "2025-09-26T15:02:45.851449Z",
     "iopub.status.busy": "2025-09-26T15:02:45.851282Z",
     "iopub.status.idle": "2025-09-26T15:02:45.875971Z",
     "shell.execute_reply": "2025-09-26T15:02:45.875273Z",
     "shell.execute_reply.started": "2025-09-26T15:02:45.851435Z"
    }
   },
   "outputs": [],
   "source": [
    "# from costs import *\n",
    "\n",
    "\n",
    "def grid_search(y, tx, grid_w0, grid_w1):\n",
    "    \"\"\"Algorithm for grid search.\n",
    "\n",
    "    Args:\n",
    "        y: numpy array of shape=(N, )\n",
    "        tx: numpy array of shape=(N,2)\n",
    "        grid_w0: numpy array of shape=(num_grid_pts_w0, ). A 1D array containing num_grid_pts_w0 values of parameter w0 to be tested in the grid search.\n",
    "        grid_w1: numpy array of shape=(num_grid_pts_w1, ). A 1D array containing num_grid_pts_w1 values of parameter w1 to be tested in the grid search.\n",
    "\n",
    "    Returns:\n",
    "        losses: numpy array of shape=(num_grid_pts_w0, num_grid_pts_w1). A 2D array containing the loss value for each combination of w0 and w1\n",
    "    \"\"\"\n",
    "\n",
    "    losses = np.zeros((len(grid_w0), len(grid_w1)))\n",
    "    # ***************************************************\n",
    "    # INSERT YOUR CODE HERE\n",
    "    # TODO: compute loss for each combination of w0 and w1.\n",
    "    # ***************************************************\n",
    "    \n",
    "    G0, G1 = len(grid_w0), len(grid_w1)\n",
    "    grid_losses = np.zeros((G0, G1), dtype=float)\n",
    "\n",
    "    for i, w0 in enumerate(grid_w0):\n",
    "        for j, w1 in enumerate(grid_w1):\n",
    "            loss = compute_loss(y, tx, [w0, w1])\n",
    "            grid_losses[i, j] = loss\n",
    "            \n",
    "\n",
    "    \n",
    "    #raise NotImplementedError\n",
    "    return grid_losses"
   ]
  },
  {
   "cell_type": "markdown",
   "metadata": {},
   "source": [
    "Let us play with the grid search demo now!"
   ]
  },
  {
   "cell_type": "code",
   "execution_count": 7,
   "metadata": {
    "execution": {
     "iopub.execute_input": "2025-09-26T15:02:45.876881Z",
     "iopub.status.busy": "2025-09-26T15:02:45.876575Z",
     "iopub.status.idle": "2025-09-26T15:02:46.265269Z",
     "shell.execute_reply": "2025-09-26T15:02:46.264530Z",
     "shell.execute_reply.started": "2025-09-26T15:02:45.876861Z"
    }
   },
   "outputs": [
    {
     "name": "stdout",
     "output_type": "stream",
     "text": [
      "Grid Search: loss*=42.42448314678248, w0*=66.66666666666669, w1*=16.666666666666686, execution time=0.003 seconds\n"
     ]
    },
    {
     "data": {
      "image/png": "[encoded data removed]",
      "text/plain": [
       "<Figure size 1000x600 with 3 Axes>"
      ]
     },
     "metadata": {},
     "output_type": "display_data"
    }
   ],
   "source": [
    "from grid_search import generate_w, get_best_parameters\n",
    "from plots import grid_visualization\n",
    "\n",
    "# Generate the grid of parameters to be swept\n",
    "grid_w0, grid_w1 = generate_w(num_intervals=10)\n",
    "\n",
    "# Start the grid search\n",
    "start_time = datetime.datetime.now()\n",
    "grid_losses = grid_search(y, tx, grid_w0, grid_w1)\n",
    "\n",
    "# Select the best combinaison\n",
    "loss_star, w0_star, w1_star = get_best_parameters(grid_w0, grid_w1, grid_losses)\n",
    "end_time = datetime.datetime.now()\n",
    "execution_time = (end_time - start_time).total_seconds()\n",
    "\n",
    "# Print the results\n",
    "print(\n",
    "    \"Grid Search: loss*={l}, w0*={w0}, w1*={w1}, execution time={t:.3f} seconds\".format(\n",
    "        l=loss_star, w0=w0_star, w1=w1_star, t=execution_time\n",
    "    )\n",
    ")\n",
    "\n",
    "# Plot the results\n",
    "fig = grid_visualization(grid_losses, grid_w0, grid_w1, mean_x, std_x, height, weight)\n",
    "fig.set_size_inches(10.0, 6.0)\n",
    "fig.savefig(\"grid_plot\")  # Optional saving"
   ]
  },
  {
   "cell_type": "markdown",
   "metadata": {},
   "source": [
    "# 3. Gradient Descent"
   ]
  },
  {
   "cell_type": "markdown",
   "metadata": {},
   "source": [
    "Again, please fill in the functions `compute_gradient` below:"
   ]
  },
  {
   "cell_type": "code",
   "execution_count": 8,
   "metadata": {
    "execution": {
     "iopub.execute_input": "2025-09-26T15:02:46.265945Z",
     "iopub.status.busy": "2025-09-26T15:02:46.265783Z",
     "iopub.status.idle": "2025-09-26T15:02:46.277505Z",
     "shell.execute_reply": "2025-09-26T15:02:46.277120Z",
     "shell.execute_reply.started": "2025-09-26T15:02:46.265929Z"
    }
   },
   "outputs": [],
   "source": [
    "def compute_gradient(y, tx, w):\n",
    "    \"\"\"Computes the gradient at w.\n",
    "\n",
    "    Args:\n",
    "        y: numpy array of shape=(N, )\n",
    "        tx: numpy array of shape=(N,2)\n",
    "        w: numpy array of shape=(2, ). The vector of model parameters.\n",
    "\n",
    "    Returns:\n",
    "        An numpy array of shape (2, ) (same shape as w), containing the gradient of the loss at w.\n",
    "    \"\"\"\n",
    "    # ***************************************************\n",
    "    # INSERT YOUR CODE HERE\n",
    "    # TODO: compute gradient vector\n",
    "    # ***************************************************\n",
    "\n",
    "    N = y.shape[0]\n",
    "    e = y - tx@w\n",
    "    gradient = -(1/N) * tx.T@e\n",
    "\n",
    "    return gradient\n"
   ]
  },
  {
   "cell_type": "code",
   "execution_count": 9,
   "metadata": {
    "execution": {
     "iopub.execute_input": "2025-09-26T15:02:46.278022Z",
     "iopub.status.busy": "2025-09-26T15:02:46.277864Z",
     "iopub.status.idle": "2025-09-26T15:02:46.303293Z",
     "shell.execute_reply": "2025-09-26T15:02:46.302804Z",
     "shell.execute_reply.started": "2025-09-26T15:02:46.278007Z"
    }
   },
   "outputs": [
    {
     "data": {
      "text/plain": [
       "array([-2.        , -4.66666667])"
      ]
     },
     "execution_count": 9,
     "metadata": {},
     "output_type": "execute_result"
    }
   ],
   "source": [
    "X = np.array([ [1,1],\n",
    "               [1,2],\n",
    "               [1,3]])\n",
    "\n",
    "Y = np.array([1,2,3]).T\n",
    "w = np.array([0,0]).T\n",
    "\n",
    "compute_gradient(Y, X, w)"
   ]
  },
  {
   "cell_type": "code",
   "execution_count": 10,
   "metadata": {
    "execution": {
     "iopub.execute_input": "2025-09-26T15:02:46.304040Z",
     "iopub.status.busy": "2025-09-26T15:02:46.303832Z",
     "iopub.status.idle": "2025-09-26T15:02:46.327644Z",
     "shell.execute_reply": "2025-09-26T15:02:46.326993Z",
     "shell.execute_reply.started": "2025-09-26T15:02:46.304002Z"
    }
   },
   "outputs": [
    {
     "data": {
      "text/plain": [
       "array([138.        , 288.66666667])"
      ]
     },
     "execution_count": 10,
     "metadata": {},
     "output_type": "execute_result"
    }
   ],
   "source": [
    "w = np.array([100, 20]).T\n",
    "compute_gradient(Y, X, w)"
   ]
  },
  {
   "cell_type": "code",
   "execution_count": 11,
   "metadata": {
    "execution": {
     "iopub.execute_input": "2025-09-26T15:02:46.328351Z",
     "iopub.status.busy": "2025-09-26T15:02:46.328190Z",
     "iopub.status.idle": "2025-09-26T15:02:46.353071Z",
     "shell.execute_reply": "2025-09-26T15:02:46.352561Z",
     "shell.execute_reply.started": "2025-09-26T15:02:46.328337Z"
    }
   },
   "outputs": [
    {
     "data": {
      "text/plain": [
       "array([ 68., 142.])"
      ]
     },
     "execution_count": 11,
     "metadata": {},
     "output_type": "execute_result"
    }
   ],
   "source": [
    "w = np.array([50, 10]).T\n",
    "compute_gradient(Y, X, w)"
   ]
  },
  {
   "cell_type": "markdown",
   "metadata": {},
   "source": [
    "Please fill in the functions `gradient_descent` below:"
   ]
  },
  {
   "cell_type": "code",
   "execution_count": 12,
   "metadata": {
    "execution": {
     "iopub.execute_input": "2025-09-26T15:02:46.353800Z",
     "iopub.status.busy": "2025-09-26T15:02:46.353623Z",
     "iopub.status.idle": "2025-09-26T15:02:46.376559Z",
     "shell.execute_reply": "2025-09-26T15:02:46.376062Z",
     "shell.execute_reply.started": "2025-09-26T15:02:46.353769Z"
    }
   },
   "outputs": [],
   "source": [
    "def gradient_descent(y, tx, initial_w, max_iters, gamma):\n",
    "    \"\"\"The Gradient Descent (GD) algorithm.\n",
    "\n",
    "    Args:\n",
    "        y: numpy array of shape=(N, )\n",
    "        tx: numpy array of shape=(N,2)\n",
    "        initial_w: numpy array of shape=(2, ). The initial guess (or the initialization) for the model parameters\n",
    "        max_iters: a scalar denoting the total number of iterations of GD\n",
    "        gamma: a scalar denoting the stepsize\n",
    "\n",
    "    Returns:\n",
    "        losses: a list of length max_iters containing the loss value (scalar) for each iteration of GD\n",
    "        ws: a list of length max_iters + 1 containing the model parameters as numpy arrays of shape (2, ),\n",
    "            for each iteration of GD (as well as the final weights)\n",
    "    \"\"\"\n",
    "    # Define parameters to store w and loss\n",
    "    ws = [initial_w]\n",
    "    losses = []\n",
    "    w = initial_w\n",
    "    for n_iter in range(max_iters):\n",
    "        # ***************************************************\n",
    "        # INSERT YOUR CODE HERE\n",
    "        # TODO: compute gradient and loss\n",
    "        # ***************************************************\n",
    "        loss = (compute_loss(y, tx, ws[n_iter]))\n",
    "        gradient = compute_gradient(y, tx, ws[n_iter])\n",
    "        #raise NotImplementedError\n",
    "        # ***************************************************\n",
    "        # INSERT YOUR CODE HERE\n",
    "        # TODO: update w by gradient\n",
    "        # ***************************************************\n",
    "        w = ws[n_iter] - gamma * gradient\n",
    "        #raise NotImplementedError\n",
    "\n",
    "        # store w and loss\n",
    "        ws.append(w.copy())\n",
    "        losses.append(loss)\n",
    "        print(\n",
    "            \"GD iter. {bi}/{ti}: loss={l}, w0={w0}, w1={w1}\".format(\n",
    "                bi=n_iter, ti=max_iters - 1, l=loss, w0=w[0], w1=w[1]\n",
    "            )\n",
    "        )\n",
    "\n",
    "    return losses, ws"
   ]
  },
  {
   "cell_type": "markdown",
   "metadata": {},
   "source": [
    "Test your gradient descent function through gradient descent demo shown below:"
   ]
  },
  {
   "cell_type": "code",
   "execution_count": 13,
   "metadata": {
    "execution": {
     "iopub.execute_input": "2025-09-26T15:02:46.377268Z",
     "iopub.status.busy": "2025-09-26T15:02:46.377118Z",
     "iopub.status.idle": "2025-09-26T15:02:46.404323Z",
     "shell.execute_reply": "2025-09-26T15:02:46.403819Z",
     "shell.execute_reply.started": "2025-09-26T15:02:46.377253Z"
    }
   },
   "outputs": [
    {
     "name": "stdout",
     "output_type": "stream",
     "text": [
      "GD iter. 0/49: loss=429498.31471065397, w0=-705.1391835161312, w1=24.802670880382376\n",
      "GD iter. 1/49: loss=303058.5404652298, w0=727.1777306374229, w1=3.9684273408568735\n",
      "GD iter. 2/49: loss=213842.63575765418, w0=-475.9684772515661, w1=21.469191914061938\n",
      "GD iter. 3/49: loss=150891.8933959918, w0=534.6743373751892, w1=6.768549672566049\n",
      "GD iter. 4/49: loss=106473.84958560047, w0=-314.26562691128436, w1=19.117089155425674\n",
      "GD iter. 5/49: loss=75132.47787298789, w0=398.84394308934964, w1=8.744315989821521\n",
      "GD iter. 6/49: loss=53018.00599256794, w0=-200.1680957111813, w1=17.45744544893025\n",
      "GD iter. 7/49: loss=37414.034633744835, w0=303.002016881266, w1=10.138416703277578\n",
      "GD iter. 8/49: loss=26403.872442958982, w0=-119.66087769639057, w1=16.28640084962778\n",
      "GD iter. 9/49: loss=18635.102001140574, w0=235.37595374884086, w1=11.122094166691909\n",
      "GD iter. 10/49: loss=13153.457577393248, w0=-62.8549846651527, w1=15.460111780359082\n",
      "GD iter. 11/49: loss=9285.609271997251, w0=187.65900360260258, w1=11.816176984878032\n",
      "GD iter. 12/49: loss=6556.455507709932, w0=-22.77274654231269, w1=14.877082213082804\n",
      "GD iter. 13/49: loss=4630.764611628718, w0=153.98992357941623, w1=12.305921821390122\n",
      "GD iter. 14/49: loss=3271.997115353809, w0=5.509280677163673, w1=14.465696550412263\n",
      "GD iter. 15/49: loss=2313.2507699822477, w0=130.23302071505606, w1=12.651485778033313\n",
      "GD iter. 16/49: loss=1636.7593486880571, w0=25.465079083226698, w1=14.175422826832044\n",
      "GD iter. 17/49: loss=1159.4270018228651, w0=113.4701500539633, w1=12.895315705840861\n",
      "GD iter. 18/49: loss=822.621297874804, w0=39.54589043854446, w1=13.970605687473535\n",
      "GD iter. 19/49: loss=584.9711931690424, w0=101.6422685154962, w1=13.06736210290201\n",
      "GD iter. 20/49: loss=417.28527928865964, w0=49.481310930856615, w1=13.826086713942237\n",
      "GD iter. 21/49: loss=298.9660984546647, w0=93.29651530195403, w1=13.188758040668318\n",
      "GD iter. 22/49: loss=215.48008445819556, w0=56.49174363023212, w1=13.724114126218476\n",
      "GD iter. 23/49: loss=156.57235298228682, w0=87.40775183447846, w1=13.274415014356304\n",
      "GD iter. 24/49: loss=115.00705765288349, w0=61.43830494291163, w1=13.65216226832059\n",
      "GD iter. 25/49: loss=85.67858526845814, w0=83.25264033182772, w1=13.33485457499052\n",
      "GD iter. 26/49: loss=64.98441515400684, w0=64.92859860513822, w1=13.601393037387842\n",
      "GD iter. 27/49: loss=50.38260872125097, w0=80.32079365555745, w1=13.377500728974066\n",
      "GD iter. 28/49: loss=40.07957410229812, w0=67.39134981320532, w1=13.565570268041643\n",
      "GD iter. 29/49: loss=32.80975287516472, w0=78.25208264078108, w1=13.407591855224862\n",
      "GD iter. 30/49: loss=27.680167017299635, w0=69.12906706561746, w1=13.540293721990983\n",
      "GD iter. 31/49: loss=24.060731235989895, w0=76.79240014875488, w1=13.428824153907412\n",
      "GD iter. 32/49: loss=21.50685734869785, w0=70.35520035891946, w1=13.522458591097642\n",
      "GD iter. 33/49: loss=19.70484393382454, w0=75.7624481823812, w1=13.443805663857823\n",
      "GD iter. 34/49: loss=18.433343268289985, w0=71.22036001067333, w1=13.509874122739285\n",
      "GD iter. 35/49: loss=17.536172398688798, w0=75.03571407490794, w1=13.454376617278843\n",
      "GD iter. 36/49: loss=16.90312863309818, w0=71.83081666095087, w1=13.500994521865621\n",
      "GD iter. 37/49: loss=16.456452952097454, w0=74.5229304886748, w1=13.461835482012726\n",
      "GD iter. 38/49: loss=16.141278591583326, w0=72.26155487338671, w1=13.494729075489165\n",
      "GD iter. 39/49: loss=15.918891562804566, w0=74.1611103902287, w1=13.46709845696895\n",
      "GD iter. 40/49: loss=15.761975275298273, w0=72.56548375608143, w1=13.490308176525934\n",
      "GD iter. 41/49: loss=15.65125514283384, w0=73.90581012876514, w1=13.470812012098063\n",
      "GD iter. 42/49: loss=15.573131017366931, w0=72.77993597571083, w1=13.487188790217479\n",
      "GD iter. 43/49: loss=15.518006634437482, w0=73.72567026427646, w1=13.473432296597165\n",
      "GD iter. 44/49: loss=15.479110869842465, w0=72.93125346188133, w1=13.484987751238231\n",
      "GD iter. 45/49: loss=15.45166601834422, w0=73.59856357589324, w1=13.475281169339734\n",
      "GD iter. 46/49: loss=15.432300931127054, w0=73.03802308012322, w1=13.483434698134474\n",
      "GD iter. 47/49: loss=15.41863692558663, w0=73.50887709657005, w1=13.47658573394689\n",
      "GD iter. 48/49: loss=15.408995603277301, w0=73.11335972275471, w1=13.482338863864461\n",
      "GD iter. 49/49: loss=15.402192686255841, w0=73.4455943167596, w1=13.477506234733701\n",
      "GD: execution time=0.004 seconds\n"
     ]
    }
   ],
   "source": [
    "# from gradient_descent import *\n",
    "from plots import gradient_descent_visualization\n",
    "\n",
    "# Define the parameters of the algorithm.\n",
    "max_iters = 50\n",
    "gamma = 1.84\n",
    "\n",
    "# Initialization\n",
    "w_initial = np.array([1000, 0])\n",
    "\n",
    "# Start gradient descent.\n",
    "start_time = datetime.datetime.now()\n",
    "gd_losses, gd_ws = gradient_descent(y, tx, w_initial, max_iters, gamma)\n",
    "end_time = datetime.datetime.now()\n",
    "\n",
    "# Print result\n",
    "exection_time = (end_time - start_time).total_seconds()\n",
    "print(\"GD: execution time={t:.3f} seconds\".format(t=exection_time))"
   ]
  },
  {
   "cell_type": "code",
   "execution_count": 14,
   "metadata": {
    "execution": {
     "iopub.execute_input": "2025-09-26T15:02:46.405017Z",
     "iopub.status.busy": "2025-09-26T15:02:46.404856Z",
     "iopub.status.idle": "2025-09-26T15:02:46.635162Z",
     "shell.execute_reply": "2025-09-26T15:02:46.634661Z",
     "shell.execute_reply.started": "2025-09-26T15:02:46.405003Z"
    }
   },
   "outputs": [
    {
     "data": {
      "application/vnd.jupyter.widget-view+json": {
       "model_id": "3889e728147846fb8ac514acd2568708",
       "version_major": 2,
       "version_minor": 0
      },
      "text/plain": [
       "interactive(children=(IntSlider(value=1, description='n_iter', max=51, min=1), Output()), _dom_classes=('widge…"
      ]
     },
     "metadata": {},
     "output_type": "display_data"
    },
    {
     "data": {
      "text/plain": [
       "<function __main__.plot_figure(n_iter)>"
      ]
     },
     "execution_count": 14,
     "metadata": {},
     "output_type": "execute_result"
    }
   ],
   "source": [
    "# Time Visualization\n",
    "from ipywidgets import IntSlider, interact\n",
    "\n",
    "\n",
    "def plot_figure(n_iter):\n",
    "    fig = gradient_descent_visualization(\n",
    "        gd_losses,\n",
    "        gd_ws,\n",
    "        grid_losses,\n",
    "        grid_w0,\n",
    "        grid_w1,\n",
    "        mean_x,\n",
    "        std_x,\n",
    "        height,\n",
    "        weight,\n",
    "        n_iter,\n",
    "    )\n",
    "    fig.set_size_inches(10.0, 6.0)\n",
    "    display(fig)\n",
    "    plt.close(fig)\n",
    "\n",
    "\n",
    "interact(plot_figure, n_iter=IntSlider(min=1, max=len(gd_ws)))"
   ]
  },
  {
   "cell_type": "markdown",
   "metadata": {
    "collapsed": true,
    "jupyter": {
     "outputs_hidden": true
    }
   },
   "source": [
    "# 4. Stochastic gradient descent"
   ]
  },
  {
   "cell_type": "code",
   "execution_count": 15,
   "metadata": {
    "execution": {
     "iopub.execute_input": "2025-09-26T15:02:46.635827Z",
     "iopub.status.busy": "2025-09-26T15:02:46.635681Z",
     "iopub.status.idle": "2025-09-26T15:02:46.649314Z",
     "shell.execute_reply": "2025-09-26T15:02:46.648820Z",
     "shell.execute_reply.started": "2025-09-26T15:02:46.635812Z"
    }
   },
   "outputs": [],
   "source": [
    "def compute_stoch_gradient(y, tx, w):\n",
    "    \"\"\"Compute a stochastic gradient at w from a data sample batch of size B, where B < N, and their corresponding labels.\n",
    "\n",
    "    Args:\n",
    "        y: numpy array of shape=(B, )\n",
    "        tx: numpy array of shape=(B,2)\n",
    "        w: numpy array of shape=(2, ). The vector of model parameters.\n",
    "\n",
    "    Returns:\n",
    "        A numpy array of shape (2, ) (same shape as w), containing the stochastic gradient of the loss at w.\n",
    "    \"\"\"\n",
    "\n",
    "    # ***************************************************\n",
    "    # INSERT YOUR CODE HERE\n",
    "    # TODO: implement stochastic gradient computation. It's the same as the usual gradient.\n",
    "    # ***************************************************\n",
    "    #raise NotImplementedError\n",
    "    return compute_gradient(y, tx, w)\n",
    "        \n",
    "    \n",
    "\n",
    "    \n",
    "    \n",
    "\n",
    "\n",
    "def stochastic_gradient_descent(y, tx, initial_w, batch_size, max_iters, gamma):\n",
    "    \"\"\"The Stochastic Gradient Descent algorithm (SGD).\n",
    "\n",
    "    Args:\n",
    "        y: numpy array of shape=(N, )\n",
    "        tx: numpy array of shape=(N,2)\n",
    "        initial_w: numpy array of shape=(2, ). The initial guess (or the initialization) for the model parameters\n",
    "        batch_size: a scalar denoting the number of data points in a mini-batch used for computing the stochastic gradient\n",
    "        max_iters: a scalar denoting the total number of iterations of SGD\n",
    "        gamma: a scalar denoting the stepsize\n",
    "\n",
    "    Returns:\n",
    "        losses: a list of length max_iters containing the loss value (scalar) for each iteration of SGD\n",
    "        ws: a list of length max_iters containing the model parameters as numpy arrays of shape (2, ), for each iteration of SGD\n",
    "    \"\"\"\n",
    "\n",
    "    # Define parameters to store w and loss\n",
    "    ws = [initial_w]\n",
    "    losses = []\n",
    "    w = initial_w\n",
    "\n",
    "    for n_iter in range(max_iters):\n",
    "        # ***************************************************\n",
    "        # INSERT YOUR CODE HERE\n",
    "        # TODO: implement stochastic gradient descent.\n",
    "        # ***************************************************\n",
    "        #raise NotImplementedError\n",
    "        for batch_y, batch_x in batch_iter(y, tx, batch_size, num_batches=1, shuffle=True):\n",
    "            loss = compute_loss(batch_y, batch_x, ws[n_iter])\n",
    "            gradient = compute_stoch_gradient(batch_y, batch_x, ws[n_iter])\n",
    "            w = ws[n_iter] - gamma * gradient\n",
    "            \n",
    "            ws.append(w.copy())\n",
    "            losses.append(loss)\n",
    "            break\n",
    "            \n",
    "            \n",
    "\n",
    "        print(\n",
    "            \"SGD iter. {bi}/{ti}: loss={l}, w0={w0}, w1={w1}\".format(\n",
    "                bi=n_iter, ti=max_iters - 1, l=loss, w0=w[0], w1=w[1]\n",
    "            )\n",
    "        )\n",
    "    return losses, ws"
   ]
  },
  {
   "cell_type": "code",
   "execution_count": 16,
   "metadata": {
    "execution": {
     "iopub.execute_input": "2025-09-26T15:02:46.649974Z",
     "iopub.status.busy": "2025-09-26T15:02:46.649821Z",
     "iopub.status.idle": "2025-09-26T15:02:46.684242Z",
     "shell.execute_reply": "2025-09-26T15:02:46.683732Z",
     "shell.execute_reply.started": "2025-09-26T15:02:46.649951Z"
    }
   },
   "outputs": [
    {
     "name": "stdout",
     "output_type": "stream",
     "text": [
      "SGD iter. 0/49: loss=2402.965645401247, w0=6.932482449168187, w1=0.5128700979976976\n",
      "SGD iter. 1/49: loss=2366.7272452942084, w0=13.812492980111013, w1=2.112967108537405\n",
      "SGD iter. 2/49: loss=3185.6184605394988, w0=21.79449581215699, w1=17.41714395484633\n",
      "SGD iter. 3/49: loss=1102.365092249705, w0=26.489951258116847, w1=18.335216010315612\n",
      "SGD iter. 4/49: loss=1780.0760817721243, w0=32.45665232616462, w1=14.239065775410982\n",
      "SGD iter. 5/49: loss=1084.3151505671115, w0=37.113507811504725, w1=15.559775424340032\n",
      "SGD iter. 6/49: loss=1211.9600672069628, w0=42.03684015293154, w1=17.080824992675094\n",
      "SGD iter. 7/49: loss=303.2547673071174, w0=44.499581581937505, w1=20.760652689535156\n",
      "SGD iter. 8/49: loss=374.43142101654723, w0=47.23611742499364, w1=21.689098462920505\n",
      "SGD iter. 9/49: loss=184.82236147310684, w0=49.15873211063976, w1=22.490739952654113\n",
      "SGD iter. 10/49: loss=422.71138487532824, w0=52.06634757653386, w1=23.182933528923027\n",
      "SGD iter. 11/49: loss=167.7199884122158, w0=53.89784962901546, w1=22.59578338038219\n",
      "SGD iter. 12/49: loss=202.37253580707446, w0=55.90967733439719, w1=22.647803786061857\n",
      "SGD iter. 13/49: loss=74.03659845032514, w0=57.126530640677984, w1=23.16664804460583\n",
      "SGD iter. 14/49: loss=338.8527558068065, w0=59.72980840460102, w1=22.424224299288813\n",
      "SGD iter. 15/49: loss=88.84481850020993, w0=61.06281116904084, w1=21.717679268438097\n",
      "SGD iter. 16/49: loss=14.866935924660682, w0=61.608098908214586, w1=21.214868267287542\n",
      "SGD iter. 17/49: loss=159.61814525757202, w0=63.39481738216381, w1=20.489910742358695\n",
      "SGD iter. 18/49: loss=130.27477952434742, w0=65.00897214255295, w1=21.074829629668052\n",
      "SGD iter. 19/49: loss=39.954040966221264, w0=64.11505893685319, w1=19.745542510799016\n",
      "SGD iter. 20/49: loss=47.601484257410725, w0=65.09077902230199, w1=20.326036923267054\n",
      "SGD iter. 21/49: loss=201.85207615912773, w0=67.10001806312877, w1=20.866889671371826\n",
      "SGD iter. 22/49: loss=165.95894123054953, w0=68.92187942574971, w1=19.87108484692046\n",
      "SGD iter. 23/49: loss=0.8182307489938453, w0=69.04980368060342, w1=19.99826159857763\n",
      "SGD iter. 24/49: loss=5.877527390479715, w0=69.39266013425362, w1=20.481295230710483\n",
      "SGD iter. 25/49: loss=66.07413040001146, w0=70.54221770479988, w1=21.114295487960423\n",
      "SGD iter. 26/49: loss=13.01317315869168, w0=71.0523779376423, w1=20.710420578715212\n",
      "SGD iter. 27/49: loss=1.6988172301072766, w0=71.23670467092357, w1=20.88300884343938\n",
      "SGD iter. 28/49: loss=158.07889483048714, w0=69.45862202475391, w1=18.687045265403725\n",
      "SGD iter. 29/49: loss=0.2898878792731315, w0=69.5347650322166, w1=18.662822069549804\n",
      "SGD iter. 30/49: loss=0.004200567043428275, w0=69.54393080228073, w1=18.673801367380985\n",
      "SGD iter. 31/49: loss=61.70453213016469, w0=70.65482712624768, w1=19.180607875032397\n",
      "SGD iter. 32/49: loss=0.9373364221251214, w0=70.7917458190639, w1=19.04707207134149\n",
      "SGD iter. 33/49: loss=22.545678622131057, w0=71.46324680375612, w1=19.191171529491676\n",
      "SGD iter. 34/49: loss=19.43783515042331, w0=72.08675037472301, w1=18.567391261904287\n",
      "SGD iter. 35/49: loss=53.89836550178939, w0=73.1250024202475, w1=17.925845040549245\n",
      "SGD iter. 36/49: loss=19.564491298406278, w0=73.75053405491366, w1=18.047293097113673\n",
      "SGD iter. 37/49: loss=27.265473555212644, w0=73.01208333136857, w1=18.470252059390155\n",
      "SGD iter. 38/49: loss=0.17036701879848373, w0=72.95371090315139, w1=18.45295147379166\n",
      "SGD iter. 39/49: loss=14.628788527142108, w0=72.41280816647608, w1=17.973005794064104\n",
      "SGD iter. 40/49: loss=103.67402069290459, w0=73.85276664291146, w1=16.453407200278388\n",
      "SGD iter. 41/49: loss=6.142410405834275, w0=73.50226955573856, w1=16.08312722150239\n",
      "SGD iter. 42/49: loss=12.773093519071868, w0=72.99683719589065, w1=16.172543888408132\n",
      "SGD iter. 43/49: loss=9.259896627283139, w0=73.42718348964216, w1=15.884903985539552\n",
      "SGD iter. 44/49: loss=0.18563980502351796, w0=73.48811620745838, w1=15.845990207882707\n",
      "SGD iter. 45/49: loss=88.61860327593828, w0=74.81942085535786, w1=14.256302113101256\n",
      "SGD iter. 46/49: loss=7.923937221384743, w0=74.42132696639736, w1=14.153436374085445\n",
      "SGD iter. 47/49: loss=7.449694813954952, w0=74.03532969143406, w1=13.484160372300217\n",
      "SGD iter. 48/49: loss=6.177112145258106, w0=73.6838439265656, w1=13.279469031815927\n",
      "SGD iter. 49/49: loss=0.01218179249475266, w0=73.69945276540439, w1=13.295298834870156\n",
      "SGD: execution time=0.008 seconds\n"
     ]
    }
   ],
   "source": [
    "# from stochastic_gradient_descent import *\n",
    "\n",
    "# Define the parameters of the algorithm.\n",
    "max_iters = 50\n",
    "gamma = 0.1\n",
    "batch_size = 1\n",
    "\n",
    "# Initialization\n",
    "w_initial = np.array([0,0])\n",
    "\n",
    "# Start SGD.\n",
    "start_time = datetime.datetime.now()\n",
    "sgd_losses, sgd_ws = stochastic_gradient_descent(\n",
    "    y, tx, w_initial, batch_size, max_iters, gamma\n",
    ")\n",
    "end_time = datetime.datetime.now()\n",
    "\n",
    "# Print result\n",
    "exection_time = (end_time - start_time).total_seconds()\n",
    "print(\"SGD: execution time={t:.3f} seconds\".format(t=exection_time))"
   ]
  },
  {
   "cell_type": "code",
   "execution_count": 17,
   "metadata": {
    "execution": {
     "iopub.execute_input": "2025-09-26T15:02:46.685124Z",
     "iopub.status.busy": "2025-09-26T15:02:46.684869Z",
     "iopub.status.idle": "2025-09-26T15:02:46.875149Z",
     "shell.execute_reply": "2025-09-26T15:02:46.874647Z",
     "shell.execute_reply.started": "2025-09-26T15:02:46.685108Z"
    }
   },
   "outputs": [
    {
     "data": {
      "application/vnd.jupyter.widget-view+json": {
       "model_id": "a417b00450ae428993c47cac09c44a68",
       "version_major": 2,
       "version_minor": 0
      },
      "text/plain": [
       "interactive(children=(IntSlider(value=1, description='n_iter', max=51, min=1), Output()), _dom_classes=('widge…"
      ]
     },
     "metadata": {},
     "output_type": "display_data"
    },
    {
     "data": {
      "text/plain": [
       "<function __main__.plot_figure(n_iter)>"
      ]
     },
     "execution_count": 17,
     "metadata": {},
     "output_type": "execute_result"
    }
   ],
   "source": [
    "# Time Visualization\n",
    "from ipywidgets import IntSlider, interact\n",
    "\n",
    "\n",
    "def plot_figure(n_iter):\n",
    "    fig = gradient_descent_visualization(\n",
    "        sgd_losses,\n",
    "        sgd_ws,\n",
    "        grid_losses,\n",
    "        grid_w0,\n",
    "        grid_w1,\n",
    "        mean_x,\n",
    "        std_x,\n",
    "        height,\n",
    "        weight,\n",
    "        n_iter,\n",
    "    )\n",
    "    fig.set_size_inches(10.0, 6.0)\n",
    "    display(fig)\n",
    "    plt.close(fig)\n",
    "\n",
    "\n",
    "interact(plot_figure, n_iter=IntSlider(min=1, max=len(sgd_ws)))"
   ]
  },
  {
   "cell_type": "markdown",
   "metadata": {},
   "source": [
    "# 5. Effect of Outliers and MAE Cost Function"
   ]
  },
  {
   "cell_type": "code",
   "execution_count": 18,
   "metadata": {
    "execution": {
     "iopub.execute_input": "2025-09-26T15:02:46.875788Z",
     "iopub.status.busy": "2025-09-26T15:02:46.875642Z",
     "iopub.status.idle": "2025-09-26T15:02:47.114741Z",
     "shell.execute_reply": "2025-09-26T15:02:47.113544Z",
     "shell.execute_reply.started": "2025-09-26T15:02:46.875773Z"
    }
   },
   "outputs": [
    {
     "ename": "NotImplementedError",
     "evalue": "",
     "output_type": "error",
     "traceback": [
      "\u001b[0;31m---------------------------------------------------------------------------\u001b[0m",
      "\u001b[0;31mNotImplementedError\u001b[0m                       Traceback (most recent call last)",
      "Cell \u001b[0;32mIn[18], line 8\u001b[0m\n\u001b[1;32m      2\u001b[0m \u001b[38;5;28;01mfrom\u001b[39;00m\u001b[38;5;250m \u001b[39m\u001b[38;5;21;01mhelpers\u001b[39;00m\u001b[38;5;250m \u001b[39m\u001b[38;5;28;01mimport\u001b[39;00m \u001b[38;5;241m*\u001b[39m\n\u001b[1;32m      4\u001b[0m \u001b[38;5;66;03m# ***************************************************\u001b[39;00m\n\u001b[1;32m      5\u001b[0m \u001b[38;5;66;03m# INSERT YOUR CODE HERE\u001b[39;00m\n\u001b[1;32m      6\u001b[0m \u001b[38;5;66;03m# TODO: reload the data by subsampling first, then by subsampling and adding outliers\u001b[39;00m\n\u001b[1;32m      7\u001b[0m \u001b[38;5;66;03m# ***************************************************\u001b[39;00m\n\u001b[0;32m----> 8\u001b[0m \u001b[38;5;28;01mraise\u001b[39;00m \u001b[38;5;167;01mNotImplementedError\u001b[39;00m\n\u001b[1;32m     10\u001b[0m x, mean_x, std_x \u001b[38;5;241m=\u001b[39m standardize(height)\n\u001b[1;32m     11\u001b[0m y, tx \u001b[38;5;241m=\u001b[39m build_model_data(x, weight)\n",
      "\u001b[0;31mNotImplementedError\u001b[0m: "
     ]
    }
   ],
   "source": [
    "import datetime\n",
    "from helpers import *\n",
    "\n",
    "# ***************************************************\n",
    "# INSERT YOUR CODE HERE\n",
    "# TODO: reload the data by subsampling first, then by subsampling and adding outliers\n",
    "# ***************************************************\n",
    "raise NotImplementedError\n",
    "\n",
    "x, mean_x, std_x = standardize(height)\n",
    "y, tx = build_model_data(x, weight)"
   ]
  },
  {
   "cell_type": "code",
   "execution_count": null,
   "metadata": {
    "execution": {
     "iopub.status.busy": "2025-09-26T15:02:47.115017Z",
     "iopub.status.idle": "2025-09-26T15:02:47.115197Z",
     "shell.execute_reply": "2025-09-26T15:02:47.115117Z",
     "shell.execute_reply.started": "2025-09-26T15:02:47.115108Z"
    }
   },
   "outputs": [],
   "source": [
    "y.shape, tx.shape"
   ]
  },
  {
   "cell_type": "code",
   "execution_count": null,
   "metadata": {
    "execution": {
     "iopub.status.busy": "2025-09-26T15:02:47.115598Z",
     "iopub.status.idle": "2025-09-26T15:02:47.115759Z",
     "shell.execute_reply": "2025-09-26T15:02:47.115685Z",
     "shell.execute_reply.started": "2025-09-26T15:02:47.115677Z"
    }
   },
   "outputs": [],
   "source": [
    "from plots import gradient_descent_visualization\n",
    "\n",
    "# Define the parameters of the algorithm.\n",
    "max_iters = 50\n",
    "gamma = 0.7\n",
    "\n",
    "# Initialization\n",
    "w_initial = np.array([0, 0])\n",
    "\n",
    "# Start gradient descent.\n",
    "start_time = datetime.datetime.now()\n",
    "\n",
    "# ***************************************************\n",
    "# INSERT YOUR CODE HERE\n",
    "# TODO: fit the model to the subsampled data / subsampled data with outliers and visualize the cloud of points\n",
    "#       and the model fit\n",
    "# ***************************************************\n",
    "raise NotImplementedError\n",
    "\n",
    "\n",
    "end_time = datetime.datetime.now()\n",
    "\n",
    "# Print result\n",
    "exection_time = (end_time - start_time).total_seconds()\n",
    "print(\"GD: execution time={t:.3f} seconds\".format(t=exection_time))"
   ]
  },
  {
   "cell_type": "code",
   "execution_count": null,
   "metadata": {
    "execution": {
     "iopub.status.busy": "2025-09-26T15:02:47.116140Z",
     "iopub.status.idle": "2025-09-26T15:02:47.116290Z",
     "shell.execute_reply": "2025-09-26T15:02:47.116221Z",
     "shell.execute_reply.started": "2025-09-26T15:02:47.116213Z"
    }
   },
   "outputs": [],
   "source": [
    "# Time Visualization\n",
    "from ipywidgets import IntSlider, interact\n",
    "\n",
    "\n",
    "def plot_figure(n_iter):\n",
    "    fig = gradient_descent_visualization(\n",
    "        gd_losses,\n",
    "        gd_ws,\n",
    "        grid_losses,\n",
    "        grid_w0,\n",
    "        grid_w1,\n",
    "        mean_x,\n",
    "        std_x,\n",
    "        height,\n",
    "        weight,\n",
    "        n_iter,\n",
    "    )\n",
    "    fig.set_size_inches(10.0, 6.0)\n",
    "\n",
    "\n",
    "interact(plot_figure, n_iter=IntSlider(min=1, max=len(gd_ws)))"
   ]
  },
  {
   "cell_type": "markdown",
   "metadata": {
    "collapsed": true,
    "jupyter": {
     "outputs_hidden": true
    }
   },
   "source": [
    "# 6. Subgradient descent"
   ]
  },
  {
   "cell_type": "code",
   "execution_count": null,
   "metadata": {
    "execution": {
     "iopub.status.busy": "2025-09-26T15:02:47.116720Z",
     "iopub.status.idle": "2025-09-26T15:02:47.116876Z",
     "shell.execute_reply": "2025-09-26T15:02:47.116801Z",
     "shell.execute_reply.started": "2025-09-26T15:02:47.116793Z"
    }
   },
   "outputs": [],
   "source": [
    "def compute_subgradient_mae(y, tx, w):\n",
    "    \"\"\"Compute a subgradient of the MAE at w.\n",
    "\n",
    "    Args:\n",
    "        y: numpy array of shape=(N, )\n",
    "        tx: numpy array of shape=(N,2)\n",
    "        w: numpy array of shape=(2, ). The vector of model parameters.\n",
    "\n",
    "    Returns:\n",
    "        A numpy array of shape (2, ) (same shape as w), containing the subgradient of the MAE at w.\n",
    "    \"\"\"\n",
    "    # ***************************************************\n",
    "    # INSERT YOUR CODE HERE\n",
    "    # TODO: compute subgradient gradient vector for MAE\n",
    "    # ***************************************************\n",
    "    raise NotImplementedError"
   ]
  },
  {
   "cell_type": "code",
   "execution_count": null,
   "metadata": {
    "execution": {
     "iopub.status.busy": "2025-09-26T15:02:47.117279Z",
     "iopub.status.idle": "2025-09-26T15:02:47.117428Z",
     "shell.execute_reply": "2025-09-26T15:02:47.117360Z",
     "shell.execute_reply.started": "2025-09-26T15:02:47.117352Z"
    }
   },
   "outputs": [],
   "source": [
    "def subgradient_descent(y, tx, initial_w, max_iters, gamma):\n",
    "    \"\"\"The SubGradient Descent (SubGD) algorithm.\n",
    "\n",
    "    Args:\n",
    "        y: numpy array of shape=(N, )\n",
    "        tx: numpy array of shape=(N,2)\n",
    "        initial_w: numpy array of shape=(2, ). The initial guess (or the initialization) for the model parameters\n",
    "        max_iters: a scalar denoting the total number of iterations of GD\n",
    "        gamma: a scalar denoting the stepsize\n",
    "\n",
    "    Returns:\n",
    "        losses: a list of length max_iters containing the loss value (scalar) for each iteration of SubGD\n",
    "        ws: a list of length max_iters containing the model parameters as numpy arrays of shape (2, ), for each iteration of SubGD\n",
    "    \"\"\"\n",
    "    # Define parameters to store w and loss\n",
    "    ws = [initial_w]\n",
    "    losses = []\n",
    "    w = initial_w\n",
    "    for n_iter in range(max_iters):\n",
    "        # ***************************************************\n",
    "        # INSERT YOUR CODE HERE\n",
    "        # TODO: compute subgradient and loss\n",
    "        # ***************************************************\n",
    "        raise NotImplementedError\n",
    "        # ***************************************************\n",
    "        # INSERT YOUR CODE HERE\n",
    "        # TODO: update w by subgradient\n",
    "        # ***************************************************\n",
    "        raise NotImplementedError\n",
    "\n",
    "        ws.append(w)\n",
    "        losses.append(loss)\n",
    "        print(\n",
    "            \"SubGD iter. {bi}/{ti}: loss={l}, w0={w0}, w1={w1}\".format(\n",
    "                bi=n_iter, ti=max_iters - 1, l=loss, w0=w[0], w1=w[1]\n",
    "            )\n",
    "        )\n",
    "\n",
    "    return losses, ws"
   ]
  },
  {
   "cell_type": "code",
   "execution_count": null,
   "metadata": {
    "execution": {
     "iopub.status.busy": "2025-09-26T15:02:47.117759Z",
     "iopub.status.idle": "2025-09-26T15:02:47.117931Z",
     "shell.execute_reply": "2025-09-26T15:02:47.117861Z",
     "shell.execute_reply.started": "2025-09-26T15:02:47.117854Z"
    }
   },
   "outputs": [],
   "source": [
    "# Define the parameters of the algorithm.\n",
    "max_iters = 500\n",
    "gamma = 0.7\n",
    "batch_size = 1\n",
    "\n",
    "# Initialization\n",
    "w_initial = np.array([0, 0])\n",
    "\n",
    "# Start SubSGD.\n",
    "start_time = datetime.datetime.now()\n",
    "subgd_losses, subgd_ws = subgradient_descent(y, tx, w_initial, max_iters, gamma)\n",
    "end_time = datetime.datetime.now()\n",
    "\n",
    "# Print result\n",
    "exection_time = (end_time - start_time).total_seconds()\n",
    "print(\"SubGD: execution time={t:.3f} seconds\".format(t=exection_time))"
   ]
  },
  {
   "cell_type": "code",
   "execution_count": null,
   "metadata": {
    "execution": {
     "iopub.status.busy": "2025-09-26T15:02:47.118300Z",
     "iopub.status.idle": "2025-09-26T15:02:47.118446Z",
     "shell.execute_reply": "2025-09-26T15:02:47.118377Z",
     "shell.execute_reply.started": "2025-09-26T15:02:47.118370Z"
    }
   },
   "outputs": [],
   "source": [
    "from ipywidgets import IntSlider, interact\n",
    "\n",
    "\n",
    "def plot_figure(n_iter):\n",
    "    fig = gradient_descent_visualization(\n",
    "        subgd_losses,\n",
    "        subgd_ws,\n",
    "        grid_losses,\n",
    "        grid_w0,\n",
    "        grid_w1,\n",
    "        mean_x,\n",
    "        std_x,\n",
    "        height,\n",
    "        weight,\n",
    "        n_iter,\n",
    "    )\n",
    "    fig.set_size_inches(10.0, 6.0)\n",
    "\n",
    "\n",
    "interact(plot_figure, n_iter=IntSlider(min=1, max=len(subgd_ws)))"
   ]
  },
  {
   "cell_type": "markdown",
   "metadata": {},
   "source": [
    "# Stochastic Subgradient Descent\n",
    "\n",
    "**NB** for the computation of the subgradient you can reuse the `compute_subgradient` method that you implemented above, just making sure that you pass in a minibatch as opposed to the full data."
   ]
  },
  {
   "cell_type": "code",
   "execution_count": null,
   "metadata": {
    "execution": {
     "iopub.status.busy": "2025-09-26T15:02:47.118804Z",
     "iopub.status.idle": "2025-09-26T15:02:47.118951Z",
     "shell.execute_reply": "2025-09-26T15:02:47.118883Z",
     "shell.execute_reply.started": "2025-09-26T15:02:47.118876Z"
    }
   },
   "outputs": [],
   "source": [
    "def stochastic_subgradient_descent(y, tx, initial_w, batch_size, max_iters, gamma):\n",
    "    \"\"\"Compute a stochastic subgradient at w from a data sample batch of size B, where B < N, and their corresponding labels.\n",
    "\n",
    "    Args:\n",
    "        y: numpy array of shape=(B, )\n",
    "        tx: numpy array of shape=(B,2)\n",
    "        initial_w: numpy array of shape=(2, ). The initial guess (or the initialization) for the model parameters\n",
    "        batch_size: a scalar denoting the number of data points in a mini-batch used for computing the stochastic subgradient\n",
    "        max_iters: a scalar denoting the total number of iterations of SubSGD\n",
    "        gamma: a scalar denoting the stepsize\n",
    "\n",
    "    Returns:\n",
    "        losses: a list of length max_iters containing the loss value (scalar) for each iteration of SubSGD\n",
    "        ws: a list of length max_iters containing the model parameters as numpy arrays of shape (2, ), for each iteration of SubSGD\n",
    "    \"\"\"\n",
    "\n",
    "    # Define parameters to store w and loss\n",
    "    ws = [initial_w]\n",
    "    losses = []\n",
    "    w = initial_w\n",
    "\n",
    "    for n_iter in range(max_iters):\n",
    "        # ***************************************************\n",
    "        # INSERT YOUR CODE HERE\n",
    "        # TODO: implement stochastic subgradient descent.\n",
    "        # ***************************************************\n",
    "        raise NotImplementedError\n",
    "\n",
    "        print(\n",
    "            \"SubSGD iter. {bi}/{ti}: loss={l}, w0={w0}, w1={w1}\".format(\n",
    "                bi=n_iter, ti=max_iters - 1, l=loss, w0=w[0], w1=w[1]\n",
    "            )\n",
    "        )\n",
    "    return losses, ws"
   ]
  },
  {
   "cell_type": "code",
   "execution_count": null,
   "metadata": {
    "execution": {
     "iopub.status.busy": "2025-09-26T15:02:47.119286Z",
     "iopub.status.idle": "2025-09-26T15:02:47.119442Z",
     "shell.execute_reply": "2025-09-26T15:02:47.119371Z",
     "shell.execute_reply.started": "2025-09-26T15:02:47.119363Z"
    }
   },
   "outputs": [],
   "source": [
    "# Define the parameters of the algorithm.\n",
    "max_iters = 500\n",
    "gamma = 0.7\n",
    "batch_size = 1\n",
    "\n",
    "# Initialization\n",
    "w_initial = np.array([0, 0])\n",
    "\n",
    "# Start SubSGD.\n",
    "start_time = datetime.datetime.now()\n",
    "subsgd_losses, subsgd_ws = stochastic_subgradient_descent(\n",
    "    y, tx, w_initial, batch_size, max_iters, gamma\n",
    ")\n",
    "end_time = datetime.datetime.now()\n",
    "\n",
    "# Print result\n",
    "exection_time = (end_time - start_time).total_seconds()\n",
    "print(\"SubSGD: execution time={t:.3f} seconds\".format(t=exection_time))"
   ]
  },
  {
   "cell_type": "code",
   "execution_count": null,
   "metadata": {
    "execution": {
     "iopub.status.busy": "2025-09-26T15:02:47.119832Z",
     "iopub.status.idle": "2025-09-26T15:02:47.119998Z",
     "shell.execute_reply": "2025-09-26T15:02:47.119919Z",
     "shell.execute_reply.started": "2025-09-26T15:02:47.119911Z"
    }
   },
   "outputs": [],
   "source": [
    "from ipywidgets import IntSlider, interact\n",
    "\n",
    "\n",
    "def plot_figure(n_iter):\n",
    "    fig = gradient_descent_visualization(\n",
    "        subsgd_losses,\n",
    "        subsgd_ws,\n",
    "        grid_losses,\n",
    "        grid_w0,\n",
    "        grid_w1,\n",
    "        mean_x,\n",
    "        std_x,\n",
    "        height,\n",
    "        weight,\n",
    "        n_iter,\n",
    "    )\n",
    "    fig.set_size_inches(10.0, 6.0)\n",
    "\n",
    "\n",
    "interact(plot_figure, n_iter=IntSlider(min=1, max=len(subsgd_ws)))"
   ]
  }
 ],
 "metadata": {
  "kernelspec": {
   "display_name": "Python3",
   "language": "python",
   "name": "python3"
  },
  "language_info": {
   "codemirror_mode": {
    "name": "ipython",
    "version": 3
   },
   "file_extension": ".py",
   "mimetype": "text/x-python",
   "name": "python",
   "nbconvert_exporter": "python",
   "pygments_lexer": "ipython3",
   "version": "3.12.11"
  }
 },
 "nbformat": 4,
 "nbformat_minor": 4
}
