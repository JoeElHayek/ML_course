{
 "cells": [
  {
   "cell_type": "markdown",
   "metadata": {},
   "source": [
    "#### Import python files from another directory\n",
    "In order to reuse code written in .py files you need to import them.\n",
    "If they are from a distant folder, rather than copy-paste it into the current folder, you can write:"
   ]
  },
  {
   "cell_type": "code",
   "execution_count": 30,
   "metadata": {
    "execution": {
     "iopub.execute_input": "2025-09-29T16:03:04.555527Z",
     "iopub.status.busy": "2025-09-29T16:03:04.555141Z",
     "iopub.status.idle": "2025-09-29T16:03:04.569720Z",
     "shell.execute_reply": "2025-09-29T16:03:04.568971Z",
     "shell.execute_reply.started": "2025-09-29T16:03:04.555499Z"
    }
   },
   "outputs": [],
   "source": [
    "import sys\n",
    "\n",
    "sys.path.append(\n",
    "    \"../../ex02/template\"\n",
    ")  # This goes up twice in the directories tree (hence in labs)\n",
    "# then goes down to ex02/template where your files from lab 2 are."
   ]
  },
  {
   "cell_type": "markdown",
   "metadata": {},
   "source": [
    "you can now import your desired files, for example, we can import grid_search.py with:"
   ]
  },
  {
   "cell_type": "code",
   "execution_count": 31,
   "metadata": {
    "execution": {
     "iopub.execute_input": "2025-09-29T16:03:05.072029Z",
     "iopub.status.busy": "2025-09-29T16:03:05.071714Z",
     "iopub.status.idle": "2025-09-29T16:03:05.088007Z",
     "shell.execute_reply": "2025-09-29T16:03:05.087036Z",
     "shell.execute_reply.started": "2025-09-29T16:03:05.072006Z"
    }
   },
   "outputs": [
    {
     "name": "stdout",
     "output_type": "stream",
     "text": [
      "[-100.  -25.   50.  125.  200.] [-150.  -75.    0.   75.  150.]\n"
     ]
    }
   ],
   "source": [
    "import grid_search  # You then need to call your functions using grid_search.function_name()\n",
    "import grid_search as gs  # You then need to call your functions using gs.function_name()\n",
    "from grid_search import *  # You can call any functions of the file with function_name()\n",
    "from gradient_descent import *\n",
    "from costs import compute_loss\n",
    "\n",
    "# Let's try to call generate_w from grid_search.py:\n",
    "w0, w1 = generate_w(5)\n",
    "print(w0, w1)"
   ]
  },
  {
   "cell_type": "markdown",
   "metadata": {},
   "source": [
    "As you can see we are now able to call functions from the grid_search.py file."
   ]
  },
  {
   "cell_type": "code",
   "execution_count": 32,
   "metadata": {
    "execution": {
     "iopub.execute_input": "2025-09-29T16:03:05.404096Z",
     "iopub.status.busy": "2025-09-29T16:03:05.403765Z",
     "iopub.status.idle": "2025-09-29T16:03:05.422408Z",
     "shell.execute_reply": "2025-09-29T16:03:05.421728Z",
     "shell.execute_reply.started": "2025-09-29T16:03:05.404070Z"
    }
   },
   "outputs": [
    {
     "name": "stdout",
     "output_type": "stream",
     "text": [
      "The autoreload extension is already loaded. To reload it, use:\n",
      "  %reload_ext autoreload\n"
     ]
    }
   ],
   "source": [
    "# Useful starting lines\n",
    "%matplotlib inline\n",
    "import numpy as np\n",
    "import matplotlib.pyplot as plt\n",
    "from helpers import *\n",
    "\n",
    "from test_utils import test\n",
    "\n",
    "%load_ext autoreload\n",
    "%autoreload 2"
   ]
  },
  {
   "cell_type": "markdown",
   "metadata": {},
   "source": [
    "# 1 Least squares and linear basis functions models\n",
    "## 1.1 Least squares"
   ]
  },
  {
   "cell_type": "code",
   "execution_count": 33,
   "metadata": {
    "execution": {
     "iopub.execute_input": "2025-09-29T16:03:05.947838Z",
     "iopub.status.busy": "2025-09-29T16:03:05.947502Z",
     "iopub.status.idle": "2025-09-29T16:03:05.962555Z",
     "shell.execute_reply": "2025-09-29T16:03:05.961813Z",
     "shell.execute_reply.started": "2025-09-29T16:03:05.947814Z"
    }
   },
   "outputs": [],
   "source": [
    "def least_squares(y, tx):\n",
    "    \"\"\"Calculate the least squares solution.\n",
    "       returns mse, and optimal weights.\n",
    "\n",
    "    Args:\n",
    "        y: numpy array of shape (N,), N is the number of samples.\n",
    "        tx: numpy array of shape (N,D), D is the number of features.\n",
    "\n",
    "    Returns:\n",
    "        w: optimal weights, numpy array of shape(D,), D is the number of features.\n",
    "        mse: scalar.\n",
    "\n",
    "    >>> least_squares(np.array([0.1,0.2]), np.array([[2.3, 3.2], [1., 0.1]]))\n",
    "    (array([ 0.21212121, -0.12121212]), 8.666684749742561e-33)\n",
    "    \"\"\"\n",
    "    # ***************************************************\n",
    "    # INSERT YOUR CODE HERE\n",
    "    # least squares: TODO\n",
    "    # returns mse, and optimal weights\n",
    "    # ***************************************************\n",
    "    XtX = tx.T @ tx\n",
    "    XtY = tx.T @ y\n",
    "    try:\n",
    "        w = np.linalg.solve(XtX, XtY)\n",
    "    except np.linalg.LinAlgError:\n",
    "        w, *_ = np.linalg.lstsq(tx, y, rcond=None)\n",
    "\n",
    "    loss = compute_loss(y, tx, w)\n",
    "    return w, float(loss)\n",
    "        "
   ]
  },
  {
   "cell_type": "markdown",
   "metadata": {},
   "source": [
    "### You can test your implementation here"
   ]
  },
  {
   "cell_type": "code",
   "execution_count": 34,
   "metadata": {
    "execution": {
     "iopub.execute_input": "2025-09-29T16:03:06.438247Z",
     "iopub.status.busy": "2025-09-29T16:03:06.437748Z",
     "iopub.status.idle": "2025-09-29T16:03:06.458834Z",
     "shell.execute_reply": "2025-09-29T16:03:06.457892Z",
     "shell.execute_reply.started": "2025-09-29T16:03:06.438206Z"
    }
   },
   "outputs": [
    {
     "name": "stdout",
     "output_type": "stream",
     "text": [
      "✅ Your `least_squares` passed 1 tests.\n"
     ]
    }
   ],
   "source": [
    "test(least_squares)\n",
    "# NB:\n",
    "#\n",
    "# Due to precision issues,\n",
    "# the output might not be exactly the same\n",
    "# even if you have implemented the right code.\n",
    "#\n",
    "# For example, the mse output expected to be\n",
    "# 8.666684749742561e-33,\n",
    "# but you might get some other small number\n",
    "# close to zero.\n",
    "#\n",
    "# In this case,\n",
    "# Failing the test doesn't necessarily mean\n",
    "# your implementation is wrong.:)"
   ]
  },
  {
   "cell_type": "markdown",
   "metadata": {},
   "source": [
    "### Load the data\n",
    "Here we will reuse the dataset `height_weight_genders.csv` from previous exercise section to check the correctness of your implementation. Please compare it with your previous result."
   ]
  },
  {
   "cell_type": "code",
   "execution_count": 35,
   "metadata": {
    "execution": {
     "iopub.execute_input": "2025-09-29T16:03:07.084769Z",
     "iopub.status.busy": "2025-09-29T16:03:07.084386Z",
     "iopub.status.idle": "2025-09-29T16:03:07.100671Z",
     "shell.execute_reply": "2025-09-29T16:03:07.099763Z",
     "shell.execute_reply.started": "2025-09-29T16:03:07.084741Z"
    }
   },
   "outputs": [],
   "source": [
    "def test_your_least_squares():\n",
    "    \"\"\"\n",
    "    # this code should compare the optimal weights obtained\n",
    "    # by least squares vs. grid search\n",
    "    \"\"\"\n",
    "    height, weight, gender = load_data_from_ex02(sub_sample=False, add_outlier=False)\n",
    "    x, mean_x, std_x = standardize(height)\n",
    "    y, tx = build_model_data(x, weight)\n",
    "    # ***************************************************\n",
    "    # INSERT YOUR CODE HERE\n",
    "    # least square or grid search: TODO\n",
    "    # this code should compare the optimal weights obtained\n",
    "    # by least squares vs. grid search\n",
    "    # ***************************************************\n",
    "    w_initial = np.array([0,0])\n",
    "    w_gd = gradient_descent(y, tx, w_initial, max_iters=5, gamma=0.5)\n",
    "\n",
    "    w_ls = least_squares(y, tx)\n",
    "\n",
    "    print(\"weights obtained with gradient descent: {}; loss obtained:{}  \\n \\n\".format(w_gd[-1][-1], w_gd[0][-1]))\n",
    "    print('weights obtained with least squares: {}'.format(w_ls))"
   ]
  },
  {
   "cell_type": "markdown",
   "metadata": {},
   "source": [
    "Test it here"
   ]
  },
  {
   "cell_type": "code",
   "execution_count": 36,
   "metadata": {
    "execution": {
     "iopub.execute_input": "2025-09-29T16:03:07.923250Z",
     "iopub.status.busy": "2025-09-29T16:03:07.922909Z",
     "iopub.status.idle": "2025-09-29T16:03:07.986410Z",
     "shell.execute_reply": "2025-09-29T16:03:07.985721Z",
     "shell.execute_reply.started": "2025-09-29T16:03:07.923223Z"
    }
   },
   "outputs": [
    {
     "name": "stdout",
     "output_type": "stream",
     "text": [
      "GD iter. 0/4: loss=2792.2367127591674, w0=36.64696100105259, w1=6.739856217494532\n",
      "GD iter. 1/4: loss=709.598594091414, w0=54.97044150157886, w1=10.10978432624179\n",
      "GD iter. 2/4: loss=188.93906442447604, w0=64.13218175184201, w1=11.794748380615404\n",
      "GD iter. 3/4: loss=58.7741820077412, w0=68.71305187697358, w1=12.63723040780222\n",
      "GD iter. 4/4: loss=26.232961403557454, w0=71.00348693953939, w1=13.058471421395632\n",
      "weights obtained with gradient descent: [71.00348694 13.05847142]; loss obtained:26.232961403557454  \n",
      " \n",
      "\n",
      "weights obtained with least squares: (array([73.293922  , 13.47971243]), 15.385887868829403)\n"
     ]
    }
   ],
   "source": [
    "test_your_least_squares()"
   ]
  },
  {
   "cell_type": "markdown",
   "metadata": {},
   "source": [
    "## 1.2 Least squares with a linear basis function model\n",
    "Start from this section, we will use the dataset `dataEx3.csv`.\n",
    "\n",
    "### Implement polynomial basis functions"
   ]
  },
  {
   "cell_type": "code",
   "execution_count": 37,
   "metadata": {
    "execution": {
     "iopub.execute_input": "2025-09-29T16:03:08.772787Z",
     "iopub.status.busy": "2025-09-29T16:03:08.772353Z",
     "iopub.status.idle": "2025-09-29T16:03:08.789319Z",
     "shell.execute_reply": "2025-09-29T16:03:08.788651Z",
     "shell.execute_reply.started": "2025-09-29T16:03:08.772758Z"
    }
   },
   "outputs": [
    {
     "name": "stdout",
     "output_type": "stream",
     "text": [
      "shape of x (50,)\n",
      "shape of y (50,)\n"
     ]
    }
   ],
   "source": [
    "# load dataset\n",
    "x, y = load_data()\n",
    "print(\"shape of x {}\".format(x.shape))\n",
    "print(\"shape of y {}\".format(y.shape))"
   ]
  },
  {
   "cell_type": "code",
   "execution_count": 38,
   "metadata": {
    "execution": {
     "iopub.execute_input": "2025-09-29T16:03:08.995943Z",
     "iopub.status.busy": "2025-09-29T16:03:08.995638Z",
     "iopub.status.idle": "2025-09-29T16:03:09.009282Z",
     "shell.execute_reply": "2025-09-29T16:03:09.008567Z",
     "shell.execute_reply.started": "2025-09-29T16:03:08.995920Z"
    }
   },
   "outputs": [],
   "source": [
    "def build_poly(x, degree):\n",
    "    \"\"\"polynomial basis functions for input data x, for j=0 up to j=degree.\n",
    "\n",
    "    Args:\n",
    "        x: numpy array of shape (N,), N is the number of samples.\n",
    "        degree: integer.\n",
    "\n",
    "    Returns:\n",
    "        poly: numpy array of shape (N,d+1)\n",
    "\n",
    "    >>> build_poly(np.array([0.0, 1.5]), 2)\n",
    "    array([[1.  , 0.  , 0.  ],\n",
    "           [1.  , 1.5 , 2.25]])\n",
    "    \"\"\"\n",
    "    # ***************************************************\n",
    "    # INSERT YOUR CODE HERE\n",
    "    # polynomial basis function: TODO\n",
    "    # this function should return the matrix formed\n",
    "    # by applying the polynomial basis to the input data\n",
    "    # ***************************************************\n",
    "    x= x.reshape(-1, 1)\n",
    "    degrees = np.arange(degree+1)\n",
    "    phi = np.power(x, degrees)\n",
    "    \n",
    "\n",
    "    return phi"
   ]
  },
  {
   "cell_type": "code",
   "execution_count": 39,
   "metadata": {
    "execution": {
     "iopub.execute_input": "2025-09-29T16:03:09.527310Z",
     "iopub.status.busy": "2025-09-29T16:03:09.526989Z",
     "iopub.status.idle": "2025-09-29T16:03:09.541276Z",
     "shell.execute_reply": "2025-09-29T16:03:09.540623Z",
     "shell.execute_reply.started": "2025-09-29T16:03:09.527286Z"
    }
   },
   "outputs": [
    {
     "name": "stdout",
     "output_type": "stream",
     "text": [
      "✅ Your `build_poly` passed 1 tests.\n"
     ]
    }
   ],
   "source": [
    "test(build_poly)"
   ]
  },
  {
   "cell_type": "code",
   "execution_count": 40,
   "metadata": {
    "execution": {
     "iopub.execute_input": "2025-09-29T16:03:09.908583Z",
     "iopub.status.busy": "2025-09-29T16:03:09.908166Z",
     "iopub.status.idle": "2025-09-29T16:03:09.929490Z",
     "shell.execute_reply": "2025-09-29T16:03:09.928706Z",
     "shell.execute_reply.started": "2025-09-29T16:03:09.908551Z"
    }
   },
   "outputs": [],
   "source": [
    "from plots import *\n",
    "\n",
    "\n",
    "def polynomial_regression():\n",
    "    \"\"\"Constructing the polynomial basis function expansion of the data,\n",
    "    and then running least squares regression.\"\"\"\n",
    "    # define parameters\n",
    "    degrees = [1, 3, 7, 12]\n",
    "\n",
    "    # define the structure of the figure\n",
    "    num_row = 2\n",
    "    num_col = 2\n",
    "    f, axs = plt.subplots(num_row, num_col)\n",
    "\n",
    "    for ind, degree in enumerate(degrees):\n",
    "        # ***************************************************\n",
    "        # INSERT YOUR CODE HERE\n",
    "        # form the data to do polynomial regression.: TODO\n",
    "        # ***************************************************\n",
    "        phi = build_poly(x, degree)\n",
    "        # ***************************************************\n",
    "        # INSERT YOUR CODE HERE\n",
    "        # least square and calculate RMSE: TODO\n",
    "        # ***************************************************\n",
    "        weights, loss = least_squares(y, phi)\n",
    "        y_pred = phi @ weights\n",
    "        rmse = np.sqrt(2*loss)\n",
    "\n",
    "        print(\n",
    "            \"Processing {i}th experiment, degree={d}, rmse={loss}\".format(\n",
    "                i=ind + 1, d=degree, loss=rmse\n",
    "            )\n",
    "        )\n",
    "        # plot fit\n",
    "        plot_fitted_curve(y, x, weights, degree, axs[ind // num_col][ind % num_col])\n",
    "    plt.tight_layout()\n",
    "\n",
    "    plt.show()"
   ]
  },
  {
   "cell_type": "markdown",
   "metadata": {},
   "source": [
    "Once your implementation of `build_poly` passes the test, copy it to `build_polynomial.py`\n",
    "Let us play with polynomial regression. Note that we will use your implemented function `compute_mse`. Please copy and paste your implementation from exercise02."
   ]
  },
  {
   "cell_type": "markdown",
   "metadata": {},
   "source": [
    "Run polynomial regression"
   ]
  },
  {
   "cell_type": "code",
   "execution_count": 28,
   "metadata": {
    "execution": {
     "iopub.execute_input": "2025-09-29T15:32:29.415826Z",
     "iopub.status.busy": "2025-09-29T15:32:29.415507Z",
     "iopub.status.idle": "2025-09-29T15:32:29.434954Z",
     "shell.execute_reply": "2025-09-29T15:32:29.434167Z",
     "shell.execute_reply.started": "2025-09-29T15:32:29.415800Z"
    }
   },
   "outputs": [
    {
     "name": "stdout",
     "output_type": "stream",
     "text": [
      "[[1 1 1]\n",
      " [1 2 4]\n",
      " [1 3 9]]\n"
     ]
    }
   ],
   "source": [
    "print(build_poly(np.array([1, 2, 3]), 2))"
   ]
  },
  {
   "cell_type": "code",
   "execution_count": 29,
   "metadata": {
    "execution": {
     "iopub.execute_input": "2025-09-29T15:32:29.760410Z",
     "iopub.status.busy": "2025-09-29T15:32:29.760082Z",
     "iopub.status.idle": "2025-09-29T15:32:30.157554Z",
     "shell.execute_reply": "2025-09-29T15:32:30.156920Z",
     "shell.execute_reply.started": "2025-09-29T15:32:29.760383Z"
    }
   },
   "outputs": [
    {
     "name": "stdout",
     "output_type": "stream",
     "text": [
      "Processing 1th experiment, degree=1, rmse=0.47187607963421874\n",
      "Processing 2th experiment, degree=3, rmse=0.258582776677375\n",
      "Processing 3th experiment, degree=7, rmse=0.24965870360907347\n",
      "Processing 4th experiment, degree=12, rmse=0.24337224835783253\n"
     ]
    },
    {
     "data": {
      "image/png": "[encoded data removed]",
      "text/plain": [
       "<Figure size 640x480 with 4 Axes>"
      ]
     },
     "metadata": {},
     "output_type": "display_data"
    }
   ],
   "source": [
    "polynomial_regression()"
   ]
  },
  {
   "cell_type": "markdown",
   "metadata": {},
   "source": [
    "Your results should look like this:"
   ]
  },
  {
   "cell_type": "markdown",
   "metadata": {},
   "source": [
    "![alt text](visualize_polynomial_regression.png)"
   ]
  },
  {
   "cell_type": "markdown",
   "metadata": {},
   "source": [
    "# 2 Evaluating model predication performance\n",
    "\n",
    "Let us show the train and test splits for various polynomial degrees. First of all, please fill in the function `split_data()`"
   ]
  },
  {
   "cell_type": "code",
   "execution_count": 47,
   "metadata": {
    "execution": {
     "iopub.execute_input": "2025-09-29T16:21:20.448688Z",
     "iopub.status.busy": "2025-09-29T16:21:20.448314Z",
     "iopub.status.idle": "2025-09-29T16:21:20.467085Z",
     "shell.execute_reply": "2025-09-29T16:21:20.466407Z",
     "shell.execute_reply.started": "2025-09-29T16:21:20.448659Z"
    }
   },
   "outputs": [],
   "source": [
    "def split_data(x, y, ratio, seed=1):\n",
    "    \"\"\"\n",
    "    split the dataset based on the split ratio. If ratio is 0.8\n",
    "    you will have 80% of your data set dedicated to training\n",
    "    and the rest dedicated to testing. If ratio times the number of samples is not round\n",
    "    you can use np.floor. Also check the documentation for np.random.permutation,\n",
    "    it could be useful.\n",
    "\n",
    "    Args:\n",
    "        x: numpy array of shape (N,), N is the number of samples.\n",
    "        y: numpy array of shape (N,).\n",
    "        ratio: scalar in [0,1]\n",
    "        seed: integer.\n",
    "\n",
    "    Returns:\n",
    "        x_tr: numpy array containing the train data.\n",
    "        x_te: numpy array containing the test data.\n",
    "        y_tr: numpy array containing the train labels.\n",
    "        y_te: numpy array containing the test labels.\n",
    "\n",
    "    >>> split_data(np.arange(13), np.arange(13), 0.8, 1)\n",
    "    (array([ 2,  3,  4, 10,  1,  6,  0,  7, 12,  9]), array([ 8, 11,  5]), array([ 2,  3,  4, 10,  1,  6,  0,  7, 12,  9]), array([ 8, 11,  5]))\n",
    "    \"\"\"\n",
    "    # set seed\n",
    "    np.random.seed(seed)\n",
    "    # ***************************************************\n",
    "    # INSERT YOUR CODE HERE\n",
    "    # split the data based on the given ratio: TODO\n",
    "    # ***************************************************\n",
    "    len_x = x.shape[0]\n",
    "    random_indices = np.random.permutation(len_x)\n",
    "    len_tr = int(np.floor(ratio * len_x))\n",
    "\n",
    "    x_tr = x[random_indices[:len_tr]]\n",
    "    x_te = x[random_indices[len_tr:]]\n",
    "    \n",
    "    y_tr = y[random_indices[:len_tr]]\n",
    "    y_te = y[random_indices[len_tr:]]\n",
    "\n",
    "    return x_tr, x_te, y_tr, y_te\n",
    "\n",
    "    \n"
   ]
  },
  {
   "cell_type": "code",
   "execution_count": 48,
   "metadata": {
    "execution": {
     "iopub.execute_input": "2025-09-29T16:21:20.641498Z",
     "iopub.status.busy": "2025-09-29T16:21:20.641116Z",
     "iopub.status.idle": "2025-09-29T16:21:20.657100Z",
     "shell.execute_reply": "2025-09-29T16:21:20.656273Z",
     "shell.execute_reply.started": "2025-09-29T16:21:20.641428Z"
    }
   },
   "outputs": [
    {
     "name": "stdout",
     "output_type": "stream",
     "text": [
      "✅ Your `split_data` passed 1 tests.\n"
     ]
    }
   ],
   "source": [
    "test(split_data)"
   ]
  },
  {
   "cell_type": "markdown",
   "metadata": {},
   "source": [
    "Then, test your `split_data` function below."
   ]
  },
  {
   "cell_type": "code",
   "execution_count": null,
   "metadata": {
    "execution": {
     "iopub.status.busy": "2025-09-29T15:28:28.722738Z",
     "iopub.status.idle": "2025-09-29T15:28:28.723010Z",
     "shell.execute_reply": "2025-09-29T15:28:28.722897Z",
     "shell.execute_reply.started": "2025-09-29T15:28:28.722885Z"
    }
   },
   "outputs": [],
   "source": [
    "def train_test_split_demo(x, y, degree, ratio, seed):\n",
    "    \"\"\"polynomial regression with different split ratios and different degrees.\n",
    "\n",
    "    Returns:\n",
    "      x_tr: numpy array\n",
    "      x_te: numpy array\n",
    "      y_tr: numpy array\n",
    "      y_te: numpy array\n",
    "      weights: weights from the least squares optimization\"\"\"\n",
    "    # ***************************************************\n",
    "    # INSERT YOUR CODE HERE\n",
    "    # split the data, and return train and test data: TODO\n",
    "    # ***************************************************\n",
    "    x_tr, x_te, y_tr, y_te = split_data(x, y, ratio, seed)\n",
    "    # ***************************************************\n",
    "    # INSERT YOUR CODE HERE\n",
    "    # form train and test data with polynomial basis function: TODO\n",
    "    # ***************************************************\n",
    "    poly_xtr = build_poly(x_tr, degree)\n",
    "    poly_xte = build_poly(x_te, degree)\n",
    "    # poly_ytr = build_poly(y_tr, degree)\n",
    "    # poly_yte = build_poly(y_te, degree)\n",
    "    \n",
    "    # ***************************************************\n",
    "    # INSERT YOUR CODE HERE\n",
    "    # calculate weight through least square: TODO\n",
    "    # ***************************************************\n",
    "    wights, mse = least_squares(poly_ytr, poly_xtr)\n",
    "    # ***************************************************\n",
    "    # INSERT YOUR CODE HERE\n",
    "    # calculate RMSE for train and test data,\n",
    "    # and store them in rmse_tr and rmse_te respectively: TODO\n",
    "    # ***************************************************\n",
    "    raise NotImplementedError\n",
    "    print(\n",
    "        \"proportion={p}, degree={d}, Training RMSE={tr:.3f}, Testing RMSE={te:.3f}\".format(\n",
    "            p=ratio, d=degree, tr=rmse_tr, te=rmse_te\n",
    "        )\n",
    "    )"
   ]
  },
  {
   "cell_type": "markdown",
   "metadata": {},
   "source": [
    "Demo time"
   ]
  },
  {
   "cell_type": "code",
   "execution_count": null,
   "metadata": {
    "execution": {
     "iopub.status.busy": "2025-09-29T15:28:28.723551Z",
     "iopub.status.idle": "2025-09-29T15:28:28.723804Z",
     "shell.execute_reply": "2025-09-29T15:28:28.723693Z",
     "shell.execute_reply.started": "2025-09-29T15:28:28.723682Z"
    }
   },
   "outputs": [],
   "source": [
    "seed = 6\n",
    "degrees = [1, 3, 7, 12]\n",
    "split_ratios = [0.9, 0.7, 0.5, 0.1]\n",
    "\n",
    "# define the structure of the figure\n",
    "num_row = 4\n",
    "num_col = 4\n",
    "axs = plt.subplots(num_row, num_col, figsize=(20, 8))[1]\n",
    "\n",
    "for ind, split_ratio in enumerate(split_ratios):\n",
    "    for ind_d, degree in enumerate(degrees):\n",
    "        x_tr, x_te, y_tr, y_te, w = train_test_split_demo(\n",
    "            x, y, degree, split_ratio, seed\n",
    "        )\n",
    "        plot_fitted_curve(y_tr, x_tr, w, degree, axs[ind_d][ind % num_col])\n",
    "        axs[ind_d][ind].set_title(f\"Degree: {degree}, Split {split_ratio}\")\n",
    "plt.tight_layout()"
   ]
  },
  {
   "cell_type": "markdown",
   "metadata": {},
   "source": [
    "Your graph should look like this:"
   ]
  },
  {
   "cell_type": "markdown",
   "metadata": {},
   "source": [
    "![alt text](split_demo.png)"
   ]
  },
  {
   "cell_type": "markdown",
   "metadata": {},
   "source": [
    "# Ridge Regression\n",
    "Please fill in the function below."
   ]
  },
  {
   "cell_type": "code",
   "execution_count": null,
   "metadata": {
    "execution": {
     "iopub.status.busy": "2025-09-29T15:28:28.724254Z",
     "iopub.status.idle": "2025-09-29T15:28:28.724512Z",
     "shell.execute_reply": "2025-09-29T15:28:28.724384Z",
     "shell.execute_reply.started": "2025-09-29T15:28:28.724373Z"
    }
   },
   "outputs": [],
   "source": [
    "def ridge_regression(y, tx, lambda_):\n",
    "    \"\"\"implement ridge regression.\n",
    "\n",
    "    Args:\n",
    "        y: numpy array of shape (N,), N is the number of samples.\n",
    "        tx: numpy array of shape (N,D), D is the number of features.\n",
    "        lambda_: scalar.\n",
    "\n",
    "    Returns:\n",
    "        w: optimal weights, numpy array of shape(D,), D is the number of features.\n",
    "\n",
    "    >>> ridge_regression(np.array([0.1,0.2]), np.array([[2.3, 3.2], [1., 0.1]]), 0)\n",
    "    array([ 0.21212121, -0.12121212])\n",
    "    >>> ridge_regression(np.array([0.1,0.2]), np.array([[2.3, 3.2], [1., 0.1]]), 1)\n",
    "    array([0.03947092, 0.00319628])\n",
    "    \"\"\"\n",
    "    raise NotImplementedError"
   ]
  },
  {
   "cell_type": "code",
   "execution_count": null,
   "metadata": {
    "execution": {
     "iopub.status.busy": "2025-09-29T15:28:28.725005Z",
     "iopub.status.idle": "2025-09-29T15:28:28.725248Z",
     "shell.execute_reply": "2025-09-29T15:28:28.725133Z",
     "shell.execute_reply.started": "2025-09-29T15:28:28.725122Z"
    }
   },
   "outputs": [],
   "source": [
    "test(ridge_regression)"
   ]
  },
  {
   "cell_type": "code",
   "execution_count": null,
   "metadata": {
    "execution": {
     "iopub.status.busy": "2025-09-29T15:28:28.725872Z",
     "iopub.status.idle": "2025-09-29T15:28:28.726131Z",
     "shell.execute_reply": "2025-09-29T15:28:28.726019Z",
     "shell.execute_reply.started": "2025-09-29T15:28:28.726007Z"
    }
   },
   "outputs": [],
   "source": [
    "def ridge_regression_demo(x, y, degree, ratio, seed):\n",
    "    \"\"\"ridge regression demo.\"\"\"\n",
    "    # define parameter\n",
    "    lambdas = np.logspace(-5, 0, 15)\n",
    "\n",
    "    # ***************************************************\n",
    "    # INSERT YOUR CODE HERE\n",
    "    # split the data, and return train and test data: TODO\n",
    "    # ***************************************************\n",
    "    raise NotImplementedError\n",
    "    # ***************************************************\n",
    "    # INSERT YOUR CODE HERE\n",
    "    # form train and test data with polynomial basis function: TODO\n",
    "    # ***************************************************\n",
    "    raise NotImplementedError\n",
    "\n",
    "    rmse_tr = []\n",
    "    rmse_te = []\n",
    "    for ind, lambda_ in enumerate(lambdas):\n",
    "        # ***************************************************\n",
    "        # INSERT YOUR CODE HERE\n",
    "        # ridge regression with a given lambda\n",
    "        # ***************************************************\n",
    "        raise NotImplementedError\n",
    "        print(\n",
    "            \"proportion={p}, degree={d}, lambda={l:.3f}, Training RMSE={tr:.3f}, Testing RMSE={te:.3f}\".format(\n",
    "                p=ratio, d=degree, l=lambda_, tr=rmse_tr[ind], te=rmse_te[ind]\n",
    "            )\n",
    "        )\n",
    "    plot_train_test(rmse_tr, rmse_te, lambdas, degree)"
   ]
  },
  {
   "cell_type": "markdown",
   "metadata": {
    "collapsed": true,
    "jupyter": {
     "outputs_hidden": true
    }
   },
   "source": [
    "Demo time"
   ]
  },
  {
   "cell_type": "code",
   "execution_count": null,
   "metadata": {
    "execution": {
     "iopub.status.busy": "2025-09-29T15:28:28.726641Z",
     "iopub.status.idle": "2025-09-29T15:28:28.726916Z",
     "shell.execute_reply": "2025-09-29T15:28:28.726801Z",
     "shell.execute_reply.started": "2025-09-29T15:28:28.726789Z"
    }
   },
   "outputs": [],
   "source": [
    "seed = 56\n",
    "degree = 7\n",
    "split_ratio = 0.5\n",
    "ridge_regression_demo(x, y, degree, split_ratio, seed)"
   ]
  },
  {
   "cell_type": "markdown",
   "metadata": {},
   "source": [
    "Your plot should look like:"
   ]
  },
  {
   "cell_type": "markdown",
   "metadata": {},
   "source": [
    "![alt text](ridge_regression.png)"
   ]
  }
 ],
 "metadata": {
  "kernelspec": {
   "display_name": "Python3",
   "language": "python",
   "name": "python3"
  },
  "language_info": {
   "codemirror_mode": {
    "name": "ipython",
    "version": 3
   },
   "file_extension": ".py",
   "mimetype": "text/x-python",
   "name": "python",
   "nbconvert_exporter": "python",
   "pygments_lexer": "ipython3",
   "version": "3.12.11"
  }
 },
 "nbformat": 4,
 "nbformat_minor": 4
}
