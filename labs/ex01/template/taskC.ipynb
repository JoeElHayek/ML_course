{
 "cells": [
  {
   "cell_type": "code",
   "execution_count": 5,
   "metadata": {
    "execution": {
     "iopub.execute_input": "2025-09-15T15:19:07.388078Z",
     "iopub.status.busy": "2025-09-15T15:19:07.387766Z",
     "iopub.status.idle": "2025-09-15T15:19:07.923350Z",
     "shell.execute_reply": "2025-09-15T15:19:07.922645Z",
     "shell.execute_reply.started": "2025-09-15T15:19:07.388052Z"
    }
   },
   "outputs": [],
   "source": [
    "# Import necessary libraries\n",
    "%matplotlib inline\n",
    "import numpy as np\n",
    "import matplotlib.pyplot as plt\n",
    "\n",
    "%load_ext autoreload\n",
    "%autoreload 2\n",
    "\n",
    "# Load test module for sanity check\n",
    "from test_utils import test"
   ]
  },
  {
   "cell_type": "markdown",
   "metadata": {
    "id": "TYyZPqnPmhYC"
   },
   "source": [
    "Data Generation\n",
    "==="
   ]
  },
  {
   "cell_type": "code",
   "execution_count": 6,
   "metadata": {
    "execution": {
     "iopub.execute_input": "2025-09-15T15:19:07.924582Z",
     "iopub.status.busy": "2025-09-15T15:19:07.924271Z",
     "iopub.status.idle": "2025-09-15T15:19:07.935373Z",
     "shell.execute_reply": "2025-09-15T15:19:07.934808Z",
     "shell.execute_reply.started": "2025-09-15T15:19:07.924558Z"
    }
   },
   "outputs": [],
   "source": [
    "from numpy.random import rand, randn"
   ]
  },
  {
   "cell_type": "code",
   "execution_count": 7,
   "metadata": {
    "execution": {
     "iopub.execute_input": "2025-09-15T15:19:08.024964Z",
     "iopub.status.busy": "2025-09-15T15:19:08.024699Z",
     "iopub.status.idle": "2025-09-15T15:19:08.036052Z",
     "shell.execute_reply": "2025-09-15T15:19:08.035415Z",
     "shell.execute_reply.started": "2025-09-15T15:19:08.024942Z"
    }
   },
   "outputs": [],
   "source": [
    "n, d, k = 100, 2, 2"
   ]
  },
  {
   "cell_type": "code",
   "execution_count": 8,
   "metadata": {
    "execution": {
     "iopub.execute_input": "2025-09-15T15:19:08.166799Z",
     "iopub.status.busy": "2025-09-15T15:19:08.166298Z",
     "iopub.status.idle": "2025-09-15T15:19:08.180258Z",
     "shell.execute_reply": "2025-09-15T15:19:08.179645Z",
     "shell.execute_reply.started": "2025-09-15T15:19:08.166771Z"
    }
   },
   "outputs": [
    {
     "name": "stdout",
     "output_type": "stream",
     "text": [
      "[array([0.69872366, 0.75176984]), array([0.25997411, 0.14504062])]\n",
      "[array([[0.01764816, 0.        ],\n",
      "       [0.        , 0.06360523]]), array([[0.01764816, 0.        ],\n",
      "       [0.        , 0.06360523]])]\n"
     ]
    }
   ],
   "source": [
    "np.random.seed(20)\n",
    "X = rand(n, d)\n",
    "\n",
    "# means = [rand(d)  for _ in range(k)]  # works for any k\n",
    "means = [rand(d) * 0.5 + 0.5, -rand(d) * 0.5 + 0.5]  # for better plotting when k = 2\n",
    "\n",
    "S = np.diag(rand(d))\n",
    "\n",
    "sigmas = [S] * k  # we'll use the same Sigma for all clusters for better visual results\n",
    "\n",
    "print(means)\n",
    "print(sigmas)"
   ]
  },
  {
   "cell_type": "code",
   "execution_count": 12,
   "metadata": {
    "execution": {
     "iopub.execute_input": "2025-09-15T16:19:03.700013Z",
     "iopub.status.busy": "2025-09-15T16:19:03.699686Z",
     "iopub.status.idle": "2025-09-15T16:19:03.713434Z",
     "shell.execute_reply": "2025-09-15T16:19:03.712815Z",
     "shell.execute_reply.started": "2025-09-15T16:19:03.699986Z"
    }
   },
   "outputs": [
    {
     "name": "stdout",
     "output_type": "stream",
     "text": [
      "(6,)\n",
      "[0. 0. 0. 0. 0. 0.]\n"
     ]
    }
   ],
   "source": [
    "blabla = np.zeros((6,))\n",
    "print(blabla.shape)\n",
    "print(blabla)"
   ]
  },
  {
   "cell_type": "markdown",
   "metadata": {},
   "source": [
    "## Computing the probability density"
   ]
  },
  {
   "cell_type": "code",
   "execution_count": 13,
   "metadata": {
    "execution": {
     "iopub.execute_input": "2025-09-15T16:23:41.147320Z",
     "iopub.status.busy": "2025-09-15T16:23:41.147000Z",
     "iopub.status.idle": "2025-09-15T16:23:41.164837Z",
     "shell.execute_reply": "2025-09-15T16:23:41.164241Z",
     "shell.execute_reply.started": "2025-09-15T16:23:41.147294Z"
    }
   },
   "outputs": [
    {
     "name": "stdout",
     "output_type": "stream",
     "text": [
      "✅ Your `compute_p` passed 1 tests.\n"
     ]
    }
   ],
   "source": [
    "def compute_p(X, mean, sigma):\n",
    "    \"\"\"\n",
    "    Compute the probability of each data point in X under a Gaussian distribution\n",
    "\n",
    "    Args:\n",
    "        X: (n, d) numpy array, where each row corresponds to a data point\n",
    "        mean: (d, ) numpy array, the mean of the Gaussian distribution\n",
    "        sigma: (d, d) numpy array, the covariance matrix of the Gaussian distribution\n",
    "\n",
    "    Returns:\n",
    "        p: (n, ) numpy array, the probability of each data point\n",
    "\n",
    "    >>> compute_p(np.array([[0, 0], [1, 1]]), np.array([0, 0]), np.eye(2))\n",
    "    array([0.15915494, 0.05854983])\n",
    "    \"\"\"\n",
    "    # ***************************************************\n",
    "    # INSERT YOUR CODE HERE\n",
    "    [n, d] = np.shape(X)\n",
    "\n",
    "    c = np.power(2*np.pi, d/2) * np.power(np.linalg.det(sigma), 0.5)\n",
    "\n",
    "    inv_sigma = np.linalg.inv(sigma)\n",
    "\n",
    "    ret = np.zeros(n,)\n",
    "\n",
    "    for i in range(n):\n",
    "        xmu = X[i].mean() - mean\n",
    "        ret[i] = 1/c * np.exp(-0.5 * xmu.T.dot(inv_sigma).dot(xmu))\n",
    "\n",
    "    return ret\n",
    "\n",
    "    \n",
    "    \n",
    "    \n",
    "\n",
    "    \n",
    "    \n",
    "    # ***************************************************\n",
    "    #raise NotImplementedError\n",
    "\n",
    "\n",
    "test(compute_p)"
   ]
  },
  {
   "cell_type": "code",
   "execution_count": 29,
   "metadata": {
    "execution": {
     "iopub.execute_input": "2025-09-15T16:30:52.789146Z",
     "iopub.status.busy": "2025-09-15T16:30:52.788824Z",
     "iopub.status.idle": "2025-09-15T16:30:52.809368Z",
     "shell.execute_reply": "2025-09-15T16:30:52.808765Z",
     "shell.execute_reply.started": "2025-09-15T16:30:52.789120Z"
    }
   },
   "outputs": [
    {
     "name": "stdout",
     "output_type": "stream",
     "text": [
      "<class 'list'> 2\n",
      "[array([4.49179770e+00, 2.21720591e+00, 6.06584982e-02, 3.91857909e-01,\n",
      "       2.50240770e-01, 8.79199882e-01, 3.09877703e+00, 1.63609867e-01,\n",
      "       2.94857776e-01, 1.97837943e-03, 1.20486806e+00, 7.11301233e-02,\n",
      "       3.72634731e+00, 4.56328290e+00, 6.79576281e-01, 4.33677220e+00,\n",
      "       1.11840088e-04, 3.61589063e+00, 2.20987882e-01, 7.15202911e-03,\n",
      "       2.81835656e+00, 5.06573986e-02, 2.21844341e-01, 8.98899563e-02,\n",
      "       8.21097125e-01, 2.32542335e+00, 3.68012566e+00, 4.59439717e+00,\n",
      "       4.18932779e+00, 5.74086854e-01, 4.08578925e-03, 4.32498680e+00,\n",
      "       3.44520307e+00, 2.92374036e-02, 1.92303794e-02, 3.75279839e+00,\n",
      "       1.54765967e+00, 1.32907164e+00, 2.84668078e+00, 3.19488873e-01,\n",
      "       7.39716830e-02, 1.20496061e-03, 2.10351551e-03, 2.99116602e+00,\n",
      "       1.12051544e-05, 3.55084478e+00, 2.48792430e-06, 4.66004592e+00,\n",
      "       4.37218389e+00, 2.95836911e+00, 3.13714900e+00, 1.17319614e-01,\n",
      "       3.47342828e+00, 7.55692549e-02, 2.22478092e-01, 2.52253800e-01,\n",
      "       7.82207731e-01, 1.79369368e+00, 2.54811505e+00, 1.70762692e-01,\n",
      "       9.87932901e-01, 4.23158380e-02, 1.87780120e+00, 4.38728905e+00,\n",
      "       3.50188396e-01, 4.66878463e+00, 2.05073839e+00, 1.86377672e+00,\n",
      "       3.81249290e-01, 2.53123252e-01, 1.50205817e+00, 4.20639036e+00,\n",
      "       1.81283023e+00, 2.41700659e-01, 3.41760963e+00, 9.22426736e-02,\n",
      "       1.42173732e+00, 2.22057333e+00, 2.66809680e+00, 1.68881422e-02,\n",
      "       2.67873150e-02, 4.32032281e+00, 3.51485449e+00, 3.37582716e+00,\n",
      "       2.93371116e+00, 8.18774342e-03, 4.55016099e+00, 1.40596890e+00,\n",
      "       4.60968331e+00, 4.63960981e+00, 2.36530747e-01, 2.87336178e+00,\n",
      "       2.65553757e+00, 3.50704774e-01, 4.64556238e+00, 2.30246358e+00,\n",
      "       4.23856893e+00, 2.10609399e-01, 4.59969572e+00, 3.45555473e+00]), array([3.85944460e-04, 4.21855056e-06, 2.40221873e+00, 8.40188714e-01,\n",
      "       1.17128897e+00, 3.75996662e-01, 2.10664865e-05, 1.52091910e+00,\n",
      "       1.04498640e+00, 4.35669803e+00, 4.10242602e-07, 2.25948509e+00,\n",
      "       1.48848182e-02, 5.08309720e-04, 5.03434319e-01, 5.41918292e-03,\n",
      "       3.72362637e+00, 1.72145453e-02, 1.27048811e+00, 3.97028776e+00,\n",
      "       4.33078864e-02, 2.56222778e+00, 1.26735932e+00, 2.04896860e+00,\n",
      "       4.07878800e-01, 7.27814312e-02, 5.98111547e-05, 2.50747924e-03,\n",
      "       7.27592833e-03, 5.97579674e-01, 4.19835897e+00, 5.56006336e-03,\n",
      "       2.13069319e-02, 3.03104982e+00, 3.35751494e+00, 6.85672741e-05,\n",
      "       1.00583482e-06, 2.13495064e-01, 4.20093427e-02, 9.85310149e-01,\n",
      "       2.22427201e+00, 4.37843258e+00, 4.34923833e+00, 3.59043078e-02,\n",
      "       2.53954133e+00, 4.71421035e-05, 1.80445900e+00, 1.57823575e-03,\n",
      "       2.67160531e-04, 3.72176436e-02, 3.05254328e-02, 1.81097930e+00,\n",
      "       2.05855467e-02, 2.20505483e+00, 1.26505357e+00, 1.16499499e+00,\n",
      "       4.31363135e-01, 1.27319647e-01, 5.76692763e-02, 1.48447558e+00,\n",
      "       3.24899962e-01, 2.71952136e+00, 2.11820896e-06, 2.78747322e-04,\n",
      "       9.18862603e-01, 1.23149691e-03, 9.69695435e-02, 2.05579444e-06,\n",
      "       8.59106910e-01, 1.16229590e+00, 1.75193492e-01, 1.75477725e-04,\n",
      "       1.24736755e-01, 1.19870855e+00, 2.20303845e-02, 2.02576161e+00,\n",
      "       1.91853540e-01, 4.24626543e-06, 5.08229669e-02, 3.45162003e+00,\n",
      "       3.10187366e+00, 2.32365980e-04, 1.95598460e-02, 3.44014945e-05,\n",
      "       1.57392295e-05, 3.90165267e+00, 4.80760387e-04, 1.95342298e-01,\n",
      "       6.39243776e-04, 1.92924521e-03, 1.21589736e+00, 4.08179148e-02,\n",
      "       5.15022822e-02, 9.17811606e-01, 1.83944904e-03, 4.97218747e-06,\n",
      "       6.63176390e-03, 1.30961206e+00, 2.44475449e-03, 3.96793034e-05])]\n"
     ]
    }
   ],
   "source": [
    "ps = [\n",
    "    compute_p(X, m, s) for m, s in zip(means, sigmas)\n",
    "]  # exercise: try to do this without looping\n",
    "print(type(ps), len(ps))\n",
    "print(ps)"
   ]
  },
  {
   "cell_type": "code",
   "execution_count": 18,
   "metadata": {
    "execution": {
     "iopub.execute_input": "2025-09-15T16:24:35.428387Z",
     "iopub.status.busy": "2025-09-15T16:24:35.428079Z",
     "iopub.status.idle": "2025-09-15T16:24:35.441904Z",
     "shell.execute_reply": "2025-09-15T16:24:35.441293Z",
     "shell.execute_reply.started": "2025-09-15T16:24:35.428362Z"
    }
   },
   "outputs": [
    {
     "name": "stdout",
     "output_type": "stream",
     "text": [
      "[0 0 1 1 1 0 0 1 1 1 0 1 0 0 0 0 1 0 1 1 0 1 1 1 0 0 0 0 0 1 1 0 0 1 1 0 0\n",
      " 0 0 1 1 1 1 0 1 0 1 0 0 0 0 1 0 1 1 1 0 0 0 1 0 1 0 0 1 0 0 0 1 1 0 0 0 1\n",
      " 0 1 0 0 0 1 1 0 0 0 0 1 0 0 0 0 1 0 0 1 0 0 0 1 0 0]\n"
     ]
    }
   ],
   "source": [
    "assignments = np.argmax(ps, axis=0)\n",
    "print(assignments)"
   ]
  },
  {
   "cell_type": "code",
   "execution_count": 19,
   "metadata": {
    "execution": {
     "iopub.execute_input": "2025-09-15T16:24:36.431982Z",
     "iopub.status.busy": "2025-09-15T16:24:36.431669Z",
     "iopub.status.idle": "2025-09-15T16:24:36.557402Z",
     "shell.execute_reply": "2025-09-15T16:24:36.556804Z",
     "shell.execute_reply.started": "2025-09-15T16:24:36.431956Z"
    }
   },
   "outputs": [
    {
     "data": {
      "image/png": "[encoded data removed]",
      "text/plain": [
       "<Figure size 640x480 with 1 Axes>"
      ]
     },
     "metadata": {},
     "output_type": "display_data"
    }
   ],
   "source": [
    "colors = np.array([\"red\", \"green\"])[assignments]\n",
    "plt.scatter(X[:, 0], X[:, 1], c=colors, s=100)\n",
    "plt.scatter(np.array(means)[:, 0], np.array(means)[:, 1], marker=\"*\", s=200)\n",
    "plt.show()"
   ]
  },
  {
   "cell_type": "markdown",
   "metadata": {
    "id": "VsIOpA8QmhYI"
   },
   "source": [
    "Solution\n",
    "==="
   ]
  },
  {
   "cell_type": "code",
   "execution_count": null,
   "metadata": {},
   "outputs": [],
   "source": [
    "def compute_log_p(X, mean, sigma):\n",
    "    \"\"\"\n",
    "    Compute the log probability of each data point in X under a Gaussian distribution\n",
    "\n",
    "    Args:\n",
    "        X: (n, d) numpy array, where each row corresponds to a data point\n",
    "        mean: (d, ) numpy array, the mean of the Gaussian distribution\n",
    "        sigma: (d, d) numpy array, the covariance matrix of the Gaussian distribution\n",
    "\n",
    "    Returns:\n",
    "        log_p: (n, ) numpy array, the log probability of each data point\n",
    "\n",
    "    >>> compute_log_p(np.array([[0, 0], [1, 1]]), np.array([0, 0]), np.eye(2))\n",
    "    array([-1.83787707, -2.83787707])\n",
    "    \"\"\"\n",
    "    # ***************************************************\n",
    "    # INSERT YOUR CODE HERE\n",
    "    # ***************************************************\n",
    "    raise NotImplementedError\n",
    "\n",
    "\n",
    "test(compute_log_p)"
   ]
  },
  {
   "cell_type": "code",
   "execution_count": null,
   "metadata": {},
   "outputs": [],
   "source": [
    "log_ps = [\n",
    "    compute_log_p(X, m, s) for m, s in zip(means, sigmas)\n",
    "]  # exercise: try to do this without looping"
   ]
  },
  {
   "cell_type": "code",
   "execution_count": null,
   "metadata": {},
   "outputs": [],
   "source": [
    "assignments = np.argmax(log_ps, axis=0)\n",
    "print(assignments)"
   ]
  },
  {
   "cell_type": "code",
   "execution_count": null,
   "metadata": {},
   "outputs": [],
   "source": [
    "colors = np.array([\"red\", \"green\"])[assignments]\n",
    "plt.scatter(X[:, 0], X[:, 1], c=colors, s=100)\n",
    "plt.scatter(np.array(means)[:, 0], np.array(means)[:, 1], marker=\"*\", s=200)\n",
    "plt.show()"
   ]
  },
  {
   "cell_type": "code",
   "execution_count": null,
   "metadata": {},
   "outputs": [],
   "source": []
  }
 ],
 "metadata": {
  "kernelspec": {
   "display_name": "Python3",
   "language": "python",
   "name": "python3"
  },
  "language_info": {
   "codemirror_mode": {
    "name": "ipython",
    "version": 3
   },
   "file_extension": ".py",
   "mimetype": "text/x-python",
   "name": "python",
   "nbconvert_exporter": "python",
   "pygments_lexer": "ipython3",
   "version": "3.12.11"
  }
 },
 "nbformat": 4,
 "nbformat_minor": 4
}
